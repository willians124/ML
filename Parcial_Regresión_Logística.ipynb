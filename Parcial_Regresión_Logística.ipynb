{
  "nbformat": 4,
  "nbformat_minor": 0,
  "metadata": {
    "colab": {
      "name": "Parcial Regresión Logística.ipynb",
      "provenance": [],
      "collapsed_sections": [],
      "toc_visible": true,
      "include_colab_link": true
    },
    "kernelspec": {
      "name": "python3",
      "display_name": "Python 3"
    }
  },
  "cells": [
    {
      "cell_type": "markdown",
      "metadata": {
        "id": "view-in-github",
        "colab_type": "text"
      },
      "source": [
        "<a href=\"https://colab.research.google.com/github/willians124/ML/blob/master/Parcial_Regresi%C3%B3n_Log%C3%ADstica.ipynb\" target=\"_parent\"><img src=\"https://colab.research.google.com/assets/colab-badge.svg\" alt=\"Open In Colab\"/></a>"
      ]
    },
    {
      "cell_type": "markdown",
      "metadata": {
        "id": "89bSgwNLubRi",
        "colab_type": "text"
      },
      "source": [
        "# **0.-Importamos las librerías a usar**"
      ]
    },
    {
      "cell_type": "code",
      "metadata": {
        "id": "MVGIipzh7utN",
        "colab_type": "code",
        "outputId": "27553a4b-a3fd-4958-cf21-de7b037b3fbd",
        "colab": {
          "base_uri": "https://localhost:8080/",
          "height": 102
        }
      },
      "source": [
        "!pip install lightgbm"
      ],
      "execution_count": 0,
      "outputs": [
        {
          "output_type": "stream",
          "text": [
            "Requirement already satisfied: lightgbm in /usr/local/lib/python3.6/dist-packages (2.2.3)\n",
            "Requirement already satisfied: numpy in /usr/local/lib/python3.6/dist-packages (from lightgbm) (1.17.4)\n",
            "Requirement already satisfied: scikit-learn in /usr/local/lib/python3.6/dist-packages (from lightgbm) (0.21.3)\n",
            "Requirement already satisfied: scipy in /usr/local/lib/python3.6/dist-packages (from lightgbm) (1.3.2)\n",
            "Requirement already satisfied: joblib>=0.11 in /usr/local/lib/python3.6/dist-packages (from scikit-learn->lightgbm) (0.14.0)\n"
          ],
          "name": "stdout"
        }
      ]
    },
    {
      "cell_type": "code",
      "metadata": {
        "id": "J2NMMJxC70EZ",
        "colab_type": "code",
        "colab": {}
      },
      "source": [
        "\n",
        "from sklearn.model_selection import KFold\n",
        "from sklearn.model_selection import StratifiedKFold\n",
        "import lightgbm as lgb"
      ],
      "execution_count": 0,
      "outputs": []
    },
    {
      "cell_type": "code",
      "metadata": {
        "id": "qIE2kvim7nQO",
        "colab_type": "code",
        "colab": {}
      },
      "source": [
        ""
      ],
      "execution_count": 0,
      "outputs": []
    },
    {
      "cell_type": "code",
      "metadata": {
        "id": "4RTldKroGIv7",
        "colab_type": "code",
        "colab": {}
      },
      "source": [
        "import pandas as pd\n",
        "from sklearn import preprocessing\n",
        "import numpy as np\n",
        "import gc\n",
        "import lightgbm as lgb\n",
        "\n",
        "from scipy import sparse\n",
        "from scipy.sparse.linalg import svds\n",
        "\n",
        "from sklearn.metrics import roc_auc_score\n",
        "\n",
        "from scipy.sparse import csr_matrix\n",
        "\n",
        "from sklearn.model_selection import KFold\n",
        "from sklearn.model_selection import StratifiedKFold\n",
        "from sklearn.metrics import roc_auc_score\n",
        "from sklearn.metrics import log_loss\n",
        "from sklearn.metrics import precision_score\n",
        "from sklearn.metrics import recall_score"
      ],
      "execution_count": 0,
      "outputs": []
    },
    {
      "cell_type": "code",
      "metadata": {
        "id": "1N8-obpN8sQj",
        "colab_type": "code",
        "colab": {}
      },
      "source": [
        "%matplotlib inline\n",
        "import matplotlib.pyplot as plt\n",
        "import pandas as pd\n",
        "import numpy as np\n",
        "from sklearn.model_selection import train_test_split"
      ],
      "execution_count": 0,
      "outputs": []
    },
    {
      "cell_type": "markdown",
      "metadata": {
        "id": "56B_eDQTd9OI",
        "colab_type": "text"
      },
      "source": [
        "# **1.Leer los datos del dataset**\n",
        "## Leer los datos del dataset"
      ]
    },
    {
      "cell_type": "code",
      "metadata": {
        "id": "rK0TSFBWUFlz",
        "colab_type": "code",
        "outputId": "27ebd4ed-664f-4bea-dd4f-1261a3645ac4",
        "colab": {
          "base_uri": "https://localhost:8080/",
          "height": 122
        }
      },
      "source": [
        "from google.colab import drive\n",
        "drive.mount('/content/drive')"
      ],
      "execution_count": 0,
      "outputs": [
        {
          "output_type": "stream",
          "text": [
            "Go to this URL in a browser: https://accounts.google.com/o/oauth2/auth?client_id=947318989803-6bn6qk8qdgf4n4g3pfee6491hc0brc4i.apps.googleusercontent.com&redirect_uri=urn%3aietf%3awg%3aoauth%3a2.0%3aoob&response_type=code&scope=email%20https%3a%2f%2fwww.googleapis.com%2fauth%2fdocs.test%20https%3a%2f%2fwww.googleapis.com%2fauth%2fdrive%20https%3a%2f%2fwww.googleapis.com%2fauth%2fdrive.photos.readonly%20https%3a%2f%2fwww.googleapis.com%2fauth%2fpeopleapi.readonly\n",
            "\n",
            "Enter your authorization code:\n",
            "··········\n",
            "Mounted at /content/drive\n"
          ],
          "name": "stdout"
        }
      ]
    },
    {
      "cell_type": "code",
      "metadata": {
        "id": "1CZHF0lg_OyU",
        "colab_type": "code",
        "colab": {}
      },
      "source": [
        "datos = pd.read_excel(\"/content/drive/My Drive/2019-2/2.INTELIGENCIA ARTIFICIAL/IA 2019 2 GRUPAL/PARCIAL/ae1.dataset.xls\")"
      ],
      "execution_count": 0,
      "outputs": []
    },
    {
      "cell_type": "code",
      "metadata": {
        "id": "DDsQU1cQVMSc",
        "colab_type": "code",
        "outputId": "3b524bf6-c295-4300-c92d-c94ae20c7c3d",
        "colab": {
          "base_uri": "https://localhost:8080/",
          "height": 213
        }
      },
      "source": [
        "datos.head(3)"
      ],
      "execution_count": 0,
      "outputs": [
        {
          "output_type": "execute_result",
          "data": {
            "text/html": [
              "<div>\n",
              "<style scoped>\n",
              "    .dataframe tbody tr th:only-of-type {\n",
              "        vertical-align: middle;\n",
              "    }\n",
              "\n",
              "    .dataframe tbody tr th {\n",
              "        vertical-align: top;\n",
              "    }\n",
              "\n",
              "    .dataframe thead th {\n",
              "        text-align: right;\n",
              "    }\n",
              "</style>\n",
              "<table border=\"1\" class=\"dataframe\">\n",
              "  <thead>\n",
              "    <tr style=\"text-align: right;\">\n",
              "      <th></th>\n",
              "      <th>Cliente</th>\n",
              "      <th>Edad</th>\n",
              "      <th>Renta</th>\n",
              "      <th>Sexo</th>\n",
              "      <th>EstadoCivil</th>\n",
              "      <th>NivelSocioEconomico</th>\n",
              "      <th>Departamento</th>\n",
              "      <th>AntiguedadCuenta_Meses</th>\n",
              "      <th>RegistraAdicionales</th>\n",
              "      <th>NumeroAdicionales</th>\n",
              "      <th>AntiguedadAdicionales_Meses</th>\n",
              "      <th>LineaCreditoNormal</th>\n",
              "      <th>SituacionCuenta</th>\n",
              "      <th>PromediodePagos</th>\n",
              "      <th>SaldoExtra</th>\n",
              "      <th>SaldoNormal</th>\n",
              "      <th>SaldoTotal</th>\n",
              "      <th>HabitodePago1</th>\n",
              "      <th>HabitodePago2</th>\n",
              "      <th>HabitodePago3</th>\n",
              "      <th>HabitodePago4</th>\n",
              "      <th>HabitodePago5</th>\n",
              "      <th>HabitodePago6</th>\n",
              "      <th>HabitodePago7</th>\n",
              "      <th>HabitodePago8</th>\n",
              "      <th>PeorHabito Pago</th>\n",
              "      <th>FlagRefinanciadoHistórico</th>\n",
              "      <th>FlagRefinanciado</th>\n",
              "      <th>DiasMora200812</th>\n",
              "      <th>DiasMora200901</th>\n",
              "      <th>DiasMora200902</th>\n",
              "      <th>DiasMora200903</th>\n",
              "      <th>DiasMora200904</th>\n",
              "      <th>DiasMora200905</th>\n",
              "      <th>CódigoInstitucion</th>\n",
              "      <th>PagaDespues</th>\n",
              "      <th>DispEfectivo</th>\n",
              "      <th>CalificacionSBS</th>\n",
              "      <th>CompraAnual_200806_200905</th>\n",
              "      <th>NroTransaccionesAnual_200806_200905</th>\n",
              "      <th>CompraMensualMaxima_200806_200905</th>\n",
              "      <th>Flag_Cliente</th>\n",
              "    </tr>\n",
              "  </thead>\n",
              "  <tbody>\n",
              "    <tr>\n",
              "      <th>0</th>\n",
              "      <td>514</td>\n",
              "      <td>35</td>\n",
              "      <td>1703.0</td>\n",
              "      <td>M</td>\n",
              "      <td>S</td>\n",
              "      <td>N</td>\n",
              "      <td>AREQUIPA</td>\n",
              "      <td>74.13</td>\n",
              "      <td>0</td>\n",
              "      <td>NaN</td>\n",
              "      <td>NaN</td>\n",
              "      <td>2100</td>\n",
              "      <td>0</td>\n",
              "      <td>2</td>\n",
              "      <td>2331</td>\n",
              "      <td>131</td>\n",
              "      <td>2461</td>\n",
              "      <td>1</td>\n",
              "      <td>1</td>\n",
              "      <td>1</td>\n",
              "      <td>1</td>\n",
              "      <td>1</td>\n",
              "      <td>1</td>\n",
              "      <td>9</td>\n",
              "      <td>4</td>\n",
              "      <td>0.0</td>\n",
              "      <td>N/V</td>\n",
              "      <td>No Registró</td>\n",
              "      <td>0.0</td>\n",
              "      <td>0</td>\n",
              "      <td>0</td>\n",
              "      <td>0</td>\n",
              "      <td>0</td>\n",
              "      <td>0</td>\n",
              "      <td>0.0</td>\n",
              "      <td>0</td>\n",
              "      <td>0</td>\n",
              "      <td>0</td>\n",
              "      <td>133.20</td>\n",
              "      <td>8.0</td>\n",
              "      <td>66.00</td>\n",
              "      <td>MALO</td>\n",
              "    </tr>\n",
              "    <tr>\n",
              "      <th>1</th>\n",
              "      <td>728</td>\n",
              "      <td>29</td>\n",
              "      <td>NaN</td>\n",
              "      <td>M</td>\n",
              "      <td>S</td>\n",
              "      <td>C</td>\n",
              "      <td>LIMA</td>\n",
              "      <td>74.10</td>\n",
              "      <td>0</td>\n",
              "      <td>NaN</td>\n",
              "      <td>NaN</td>\n",
              "      <td>1100</td>\n",
              "      <td>0</td>\n",
              "      <td>9</td>\n",
              "      <td>0</td>\n",
              "      <td>1405</td>\n",
              "      <td>1405</td>\n",
              "      <td>A</td>\n",
              "      <td>B</td>\n",
              "      <td>A</td>\n",
              "      <td>4</td>\n",
              "      <td>B</td>\n",
              "      <td>B</td>\n",
              "      <td>A</td>\n",
              "      <td>4</td>\n",
              "      <td>0.0</td>\n",
              "      <td>Ref.C</td>\n",
              "      <td>Registró Refinanciación</td>\n",
              "      <td>82.0</td>\n",
              "      <td>0</td>\n",
              "      <td>18</td>\n",
              "      <td>49</td>\n",
              "      <td>20</td>\n",
              "      <td>51</td>\n",
              "      <td>0.0</td>\n",
              "      <td>1</td>\n",
              "      <td>0</td>\n",
              "      <td>2</td>\n",
              "      <td>772.69</td>\n",
              "      <td>32.0</td>\n",
              "      <td>225.26</td>\n",
              "      <td>MALO</td>\n",
              "    </tr>\n",
              "    <tr>\n",
              "      <th>2</th>\n",
              "      <td>2387</td>\n",
              "      <td>25</td>\n",
              "      <td>850.0</td>\n",
              "      <td>F</td>\n",
              "      <td>S</td>\n",
              "      <td>C</td>\n",
              "      <td>LIMA</td>\n",
              "      <td>53.30</td>\n",
              "      <td>0</td>\n",
              "      <td>NaN</td>\n",
              "      <td>NaN</td>\n",
              "      <td>600</td>\n",
              "      <td>0</td>\n",
              "      <td>7</td>\n",
              "      <td>0</td>\n",
              "      <td>2700</td>\n",
              "      <td>2700</td>\n",
              "      <td>B</td>\n",
              "      <td>A</td>\n",
              "      <td>B</td>\n",
              "      <td>A</td>\n",
              "      <td>4</td>\n",
              "      <td>1</td>\n",
              "      <td>4</td>\n",
              "      <td>1</td>\n",
              "      <td>0.0</td>\n",
              "      <td>Ref.C</td>\n",
              "      <td>Registró Refinanciación</td>\n",
              "      <td>0.0</td>\n",
              "      <td>16</td>\n",
              "      <td>44</td>\n",
              "      <td>16</td>\n",
              "      <td>46</td>\n",
              "      <td>0</td>\n",
              "      <td>0.0</td>\n",
              "      <td>0</td>\n",
              "      <td>0</td>\n",
              "      <td>3</td>\n",
              "      <td>653.89</td>\n",
              "      <td>10.0</td>\n",
              "      <td>526.30</td>\n",
              "      <td>MALO</td>\n",
              "    </tr>\n",
              "  </tbody>\n",
              "</table>\n",
              "</div>"
            ],
            "text/plain": [
              "   Cliente  Edad  ...  CompraMensualMaxima_200806_200905 Flag_Cliente\n",
              "0      514    35  ...                              66.00         MALO\n",
              "1      728    29  ...                             225.26         MALO\n",
              "2     2387    25  ...                             526.30         MALO\n",
              "\n",
              "[3 rows x 42 columns]"
            ]
          },
          "metadata": {
            "tags": []
          },
          "execution_count": 10
        }
      ]
    },
    {
      "cell_type": "markdown",
      "metadata": {
        "id": "ALO3ELiOVnAd",
        "colab_type": "text"
      },
      "source": [
        "# Identifique número de filas y columnas"
      ]
    },
    {
      "cell_type": "code",
      "metadata": {
        "id": "A-oxFqFyfU3V",
        "colab_type": "code",
        "outputId": "c02786ae-1edd-4be8-bda1-e1ecbd425f6d",
        "colab": {
          "base_uri": "https://localhost:8080/",
          "height": 34
        }
      },
      "source": [
        "datos.shape"
      ],
      "execution_count": 0,
      "outputs": [
        {
          "output_type": "execute_result",
          "data": {
            "text/plain": [
              "(7100, 42)"
            ]
          },
          "metadata": {
            "tags": []
          },
          "execution_count": 9
        }
      ]
    },
    {
      "cell_type": "markdown",
      "metadata": {
        "id": "nqJDAD17Vtrt",
        "colab_type": "text"
      },
      "source": [
        "# Extraiga una lista de los atributos."
      ]
    },
    {
      "cell_type": "code",
      "metadata": {
        "id": "QIkLtXkJSraZ",
        "colab_type": "code",
        "outputId": "e2a7f3d3-4b46-43d6-bdab-ba6f80ba7e8a",
        "colab": {
          "base_uri": "https://localhost:8080/",
          "height": 748
        }
      },
      "source": [
        "print('Estructura de los datos')\n",
        "for col in datos.columns :\n",
        "  print(col, type(datos[col][0]))"
      ],
      "execution_count": 0,
      "outputs": [
        {
          "output_type": "stream",
          "text": [
            "Estructura de los datos\n",
            "Cliente <class 'numpy.int64'>\n",
            "Edad <class 'numpy.int64'>\n",
            "Renta <class 'numpy.float64'>\n",
            "Sexo <class 'str'>\n",
            "EstadoCivil <class 'str'>\n",
            "NivelSocioEconomico <class 'str'>\n",
            "Departamento <class 'str'>\n",
            "AntiguedadCuenta_Meses <class 'str'>\n",
            "RegistraAdicionales <class 'numpy.int64'>\n",
            "NumeroAdicionales <class 'numpy.float64'>\n",
            "AntiguedadAdicionales_Meses <class 'float'>\n",
            "LineaCreditoNormal <class 'numpy.int64'>\n",
            "SituacionCuenta <class 'numpy.int64'>\n",
            "PromediodePagos <class 'str'>\n",
            "SaldoExtra <class 'numpy.int64'>\n",
            "SaldoNormal <class 'numpy.int64'>\n",
            "SaldoTotal <class 'numpy.int64'>\n",
            "HabitodePago1 <class 'str'>\n",
            "HabitodePago2 <class 'str'>\n",
            "HabitodePago3 <class 'str'>\n",
            "HabitodePago4 <class 'str'>\n",
            "HabitodePago5 <class 'str'>\n",
            "HabitodePago6 <class 'str'>\n",
            "HabitodePago7 <class 'str'>\n",
            "HabitodePago8 <class 'str'>\n",
            "PeorHabito Pago <class 'numpy.float64'>\n",
            "FlagRefinanciadoHistórico <class 'str'>\n",
            "FlagRefinanciado <class 'str'>\n",
            "DiasMora200812 <class 'numpy.float64'>\n",
            "DiasMora200901 <class 'numpy.int64'>\n",
            "DiasMora200902 <class 'numpy.int64'>\n",
            "DiasMora200903 <class 'numpy.int64'>\n",
            "DiasMora200904 <class 'numpy.int64'>\n",
            "DiasMora200905 <class 'numpy.int64'>\n",
            "CódigoInstitucion <class 'numpy.float64'>\n",
            "PagaDespues <class 'numpy.int64'>\n",
            "DispEfectivo <class 'numpy.int64'>\n",
            "CalificacionSBS <class 'numpy.int64'>\n",
            "CompraAnual_200806_200905 <class 'str'>\n",
            "NroTransaccionesAnual_200806_200905 <class 'numpy.float64'>\n",
            "CompraMensualMaxima_200806_200905 <class 'str'>\n",
            "Flag_Cliente <class 'str'>\n"
          ],
          "name": "stdout"
        }
      ]
    },
    {
      "cell_type": "markdown",
      "metadata": {
        "id": "LYBIBBE1Vzs4",
        "colab_type": "text"
      },
      "source": [
        "# **2.Frecuencia Incial**\n",
        "Determinar la frecuencia de BUENOS y MALOS en los datos, de tal forma que se puede armar muestras. Calcule el nivel de entropía e interprete los resultados."
      ]
    },
    {
      "cell_type": "code",
      "metadata": {
        "id": "BmtIrddSehlW",
        "colab_type": "code",
        "outputId": "6d24aaab-9127-461b-8f83-e8defbc4fff7",
        "colab": {
          "base_uri": "https://localhost:8080/",
          "height": 68
        }
      },
      "source": [
        "pd.value_counts(datos['Flag_Cliente'])"
      ],
      "execution_count": 0,
      "outputs": [
        {
          "output_type": "execute_result",
          "data": {
            "text/plain": [
              "MALO     3550\n",
              "BUENO    3550\n",
              "Name: Flag_Cliente, dtype: int64"
            ]
          },
          "metadata": {
            "tags": []
          },
          "execution_count": 9
        }
      ]
    },
    {
      "cell_type": "code",
      "metadata": {
        "id": "ImZcwK-gmRxn",
        "colab_type": "code",
        "outputId": "35188e68-4184-4775-88a2-f29c1e8514b0",
        "colab": {
          "base_uri": "https://localhost:8080/",
          "height": 68
        }
      },
      "source": [
        "100 * datos['Flag_Cliente'].value_counts() / len(datos['Flag_Cliente'])"
      ],
      "execution_count": 0,
      "outputs": [
        {
          "output_type": "execute_result",
          "data": {
            "text/plain": [
              "MALO     50.0\n",
              "BUENO    50.0\n",
              "Name: Flag_Cliente, dtype: float64"
            ]
          },
          "metadata": {
            "tags": []
          },
          "execution_count": 10
        }
      ]
    },
    {
      "cell_type": "code",
      "metadata": {
        "id": "0_nHQ552fIhi",
        "colab_type": "code",
        "outputId": "7f6a0c88-f8af-43a3-87c6-e1e311afd56f",
        "colab": {
          "base_uri": "https://localhost:8080/",
          "height": 307
        }
      },
      "source": [
        "plot = datos['Flag_Cliente'].value_counts().plot(kind='bar',\n",
        "                                            title='Flag Clientes')"
      ],
      "execution_count": 0,
      "outputs": [
        {
          "output_type": "display_data",
          "data": {
            "image/png": "[encoded data removed]",
            "text/plain": [
              "<Figure size 432x288 with 1 Axes>"
            ]
          },
          "metadata": {
            "tags": []
          }
        }
      ]
    },
    {
      "cell_type": "code",
      "metadata": {
        "id": "Uoti60_WmsZZ",
        "colab_type": "code",
        "outputId": "a986dc0d-e6bd-444e-a5a7-c4c62f049def",
        "colab": {
          "base_uri": "https://localhost:8080/",
          "height": 307
        }
      },
      "source": [
        "plot = (100 * datos['Flag_Cliente'].value_counts() / len(datos['Flag_Cliente'])).plot(\n",
        "kind='bar', title='Flag_Cliente %')"
      ],
      "execution_count": 0,
      "outputs": [
        {
          "output_type": "display_data",
          "data": {
            "image/png": "[encoded data removed]",
            "text/plain": [
              "<Figure size 432x288 with 1 Axes>"
            ]
          },
          "metadata": {
            "tags": []
          }
        }
      ]
    },
    {
      "cell_type": "code",
      "metadata": {
        "id": "TWhocsXv0aPv",
        "colab_type": "code",
        "colab": {}
      },
      "source": [
        "columns_string_a_float=['AntiguedadCuenta_Meses','CompraAnual_200806_200905','CompraMensualMaxima_200806_200905','AntiguedadAdicionales_Meses']\n",
        "for columns in columns_string_a_float:   \n",
        "  datos_AntiguedadCuenta_Meses=datos[columns]\n",
        "  float_replace=[]\n",
        "  for i in datos_AntiguedadCuenta_Meses:\n",
        "    float_replace.append(str(i).replace(\",\",\".\"))\n",
        "  float_dato = pd.DataFrame(float_replace)\n",
        "  float_dato=float_dato.astype(float)\n",
        "  float_dato=float_dato.set_index(datos.index)\n",
        "  float_dato=float_dato.rename(columns={0: columns})\n",
        "  datos[columns]=float_dato\n",
        "  datos[columns].head()"
      ],
      "execution_count": 0,
      "outputs": []
    },
    {
      "cell_type": "code",
      "metadata": {
        "id": "pMUhZvFfYsKT",
        "colab_type": "code",
        "colab": {}
      },
      "source": [
        ""
      ],
      "execution_count": 0,
      "outputs": []
    },
    {
      "cell_type": "markdown",
      "metadata": {
        "id": "JTN3SjM_WL85",
        "colab_type": "text"
      },
      "source": [
        "# **3.Muestreo Inicial**\n",
        "Dividir los datos en dos grupos del 50% y 50% respectivamente, al que se denominara TRAIN y TEST."
      ]
    },
    {
      "cell_type": "code",
      "metadata": {
        "id": "s_R5wz0ifOpX",
        "colab_type": "code",
        "colab": {}
      },
      "source": [
        "Train,Test = train_test_split(datos, test_size=0.5, train_size=0.5,random_state=1982)"
      ],
      "execution_count": 0,
      "outputs": []
    },
    {
      "cell_type": "markdown",
      "metadata": {
        "id": "O1f54d0mWgLx",
        "colab_type": "text"
      },
      "source": [
        "# **4.Balanceo de Datos**\n",
        "Balancear los datos. Solo con los datos de TEST, maximize el tamaño de la muestra balanceada.\n",
        "\n",
        "Solo se balancea el TRAIN y el TEST se deja igual.\n"
      ]
    },
    {
      "cell_type": "code",
      "metadata": {
        "id": "pVGGp_NfhdXT",
        "colab_type": "code",
        "outputId": "273743c8-d03f-4169-d06b-58e15e2421fa",
        "colab": {
          "base_uri": "https://localhost:8080/",
          "height": 34
        }
      },
      "source": [
        "Train.shape , Test.shape"
      ],
      "execution_count": 0,
      "outputs": [
        {
          "output_type": "execute_result",
          "data": {
            "text/plain": [
              "((3550, 42), (3550, 42))"
            ]
          },
          "metadata": {
            "tags": []
          },
          "execution_count": 14
        }
      ]
    },
    {
      "cell_type": "code",
      "metadata": {
        "id": "RnmUhErgiQch",
        "colab_type": "code",
        "outputId": "230fa8b0-bb96-4ae7-973a-72b8f8f8296d",
        "colab": {
          "base_uri": "https://localhost:8080/",
          "height": 102
        }
      },
      "source": [
        "pd.value_counts(Train['Flag_Cliente']),pd.value_counts(Test['Flag_Cliente'])"
      ],
      "execution_count": 0,
      "outputs": [
        {
          "output_type": "execute_result",
          "data": {
            "text/plain": [
              "(MALO     1778\n",
              " BUENO    1772\n",
              " Name: Flag_Cliente, dtype: int64, BUENO    1778\n",
              " MALO     1772\n",
              " Name: Flag_Cliente, dtype: int64)"
            ]
          },
          "metadata": {
            "tags": []
          },
          "execution_count": 15
        }
      ]
    },
    {
      "cell_type": "code",
      "metadata": {
        "id": "5uAOspCmliRc",
        "colab_type": "code",
        "outputId": "5137f285-e124-4a75-b90a-af64b2e597cb",
        "colab": {
          "base_uri": "https://localhost:8080/",
          "height": 68
        }
      },
      "source": [
        "pd.value_counts(Train['Flag_Cliente'])"
      ],
      "execution_count": 0,
      "outputs": [
        {
          "output_type": "execute_result",
          "data": {
            "text/plain": [
              "MALO     1778\n",
              "BUENO    1772\n",
              "Name: Flag_Cliente, dtype: int64"
            ]
          },
          "metadata": {
            "tags": []
          },
          "execution_count": 16
        }
      ]
    },
    {
      "cell_type": "code",
      "metadata": {
        "id": "ZxvF4Y7z49Vn",
        "colab_type": "code",
        "outputId": "d1c77c55-a552-4e54-9a14-f66a730e885a",
        "colab": {
          "base_uri": "https://localhost:8080/",
          "height": 34
        }
      },
      "source": [
        "Train_Malo_undersampling=Train_Malo=Train.loc[Train.loc[:,'Flag_Cliente']=='MALO'].sample(n=1772, replace=False)\n",
        "Train_Malo_undersampling.shape"
      ],
      "execution_count": 0,
      "outputs": [
        {
          "output_type": "execute_result",
          "data": {
            "text/plain": [
              "(1772, 42)"
            ]
          },
          "metadata": {
            "tags": []
          },
          "execution_count": 17
        }
      ]
    },
    {
      "cell_type": "code",
      "metadata": {
        "id": "vQ49rAxYu3rj",
        "colab_type": "code",
        "colab": {}
      },
      "source": [
        "frames = [Train_Malo_undersampling,Train.loc[Train.loc[:,'Flag_Cliente']=='BUENO']]\n",
        "Train_Balanceado =pd.concat(frames)"
      ],
      "execution_count": 0,
      "outputs": []
    },
    {
      "cell_type": "code",
      "metadata": {
        "id": "HN8VsZ4u9j-y",
        "colab_type": "code",
        "outputId": "587665d3-c488-41c2-c504-c465efd8521a",
        "colab": {
          "base_uri": "https://localhost:8080/",
          "height": 68
        }
      },
      "source": [
        "pd.value_counts(Train_Balanceado['Flag_Cliente'])"
      ],
      "execution_count": 0,
      "outputs": [
        {
          "output_type": "execute_result",
          "data": {
            "text/plain": [
              "MALO     1772\n",
              "BUENO    1772\n",
              "Name: Flag_Cliente, dtype: int64"
            ]
          },
          "metadata": {
            "tags": []
          },
          "execution_count": 19
        }
      ]
    },
    {
      "cell_type": "code",
      "metadata": {
        "id": "1r_W5F9kzpJJ",
        "colab_type": "code",
        "colab": {}
      },
      "source": [
        "#plot = Train_Balanceado['Flag_Cliente'].value_counts().plot(kind='bar',\n",
        "                                          #  title='Flag Clientes')"
      ],
      "execution_count": 0,
      "outputs": []
    },
    {
      "cell_type": "code",
      "metadata": {
        "id": "2sQIDOOr0UGg",
        "colab_type": "code",
        "colab": {}
      },
      "source": [
        ""
      ],
      "execution_count": 0,
      "outputs": []
    },
    {
      "cell_type": "code",
      "metadata": {
        "id": "mAbzgl2iNsQt",
        "colab_type": "code",
        "colab": {}
      },
      "source": [
        "index_Cliente_Train   = Train_Balanceado['Cliente'].values\n",
        "index_Cliente_Test    = Test['Cliente'].values"
      ],
      "execution_count": 0,
      "outputs": []
    },
    {
      "cell_type": "code",
      "metadata": {
        "id": "6X2uVX461mQh",
        "colab_type": "code",
        "colab": {}
      },
      "source": [
        ""
      ],
      "execution_count": 0,
      "outputs": []
    },
    {
      "cell_type": "code",
      "metadata": {
        "id": "DaPgLtzAqbn8",
        "colab_type": "code",
        "colab": {}
      },
      "source": [
        "DataSet_Nuevo=pd.concat([Train_Balanceado, Test])"
      ],
      "execution_count": 0,
      "outputs": []
    },
    {
      "cell_type": "code",
      "metadata": {
        "id": "ZY77hwFxJ9MW",
        "colab_type": "code",
        "outputId": "88dc69cd-e150-43e8-d0f7-7ce2f767ca0a",
        "colab": {
          "base_uri": "https://localhost:8080/",
          "height": 816
        }
      },
      "source": [
        "DataSet_Nuevo.info()"
      ],
      "execution_count": 0,
      "outputs": [
        {
          "output_type": "stream",
          "text": [
            "<class 'pandas.core.frame.DataFrame'>\n",
            "Int64Index: 7094 entries, 2601 to 3245\n",
            "Data columns (total 42 columns):\n",
            "Cliente                                7094 non-null int64\n",
            "Edad                                   7094 non-null int64\n",
            "Renta                                  3557 non-null float64\n",
            "Sexo                                   7094 non-null object\n",
            "EstadoCivil                            7094 non-null object\n",
            "NivelSocioEconomico                    7094 non-null object\n",
            "Departamento                           7094 non-null object\n",
            "AntiguedadCuenta_Meses                 7094 non-null float64\n",
            "RegistraAdicionales                    7094 non-null int64\n",
            "NumeroAdicionales                      2360 non-null float64\n",
            "AntiguedadAdicionales_Meses            2360 non-null float64\n",
            "LineaCreditoNormal                     7094 non-null int64\n",
            "SituacionCuenta                        7094 non-null int64\n",
            "PromediodePagos                        7094 non-null object\n",
            "SaldoExtra                             7094 non-null int64\n",
            "SaldoNormal                            7094 non-null int64\n",
            "SaldoTotal                             7094 non-null int64\n",
            "HabitodePago1                          7094 non-null object\n",
            "HabitodePago2                          7094 non-null object\n",
            "HabitodePago3                          7094 non-null object\n",
            "HabitodePago4                          7093 non-null object\n",
            "HabitodePago5                          7080 non-null object\n",
            "HabitodePago6                          6925 non-null object\n",
            "HabitodePago7                          6723 non-null object\n",
            "HabitodePago8                          6545 non-null object\n",
            "PeorHabito Pago                        5 non-null float64\n",
            "FlagRefinanciadoHistórico              7094 non-null object\n",
            "FlagRefinanciado                       7094 non-null object\n",
            "DiasMora200812                         6916 non-null float64\n",
            "DiasMora200901                         7094 non-null int64\n",
            "DiasMora200902                         7094 non-null int64\n",
            "DiasMora200903                         7094 non-null int64\n",
            "DiasMora200904                         7094 non-null int64\n",
            "DiasMora200905                         7094 non-null int64\n",
            "CódigoInstitucion                      6977 non-null float64\n",
            "PagaDespues                            7094 non-null int64\n",
            "DispEfectivo                           7094 non-null int64\n",
            "CalificacionSBS                        7094 non-null int64\n",
            "CompraAnual_200806_200905              6982 non-null float64\n",
            "NroTransaccionesAnual_200806_200905    6982 non-null float64\n",
            "CompraMensualMaxima_200806_200905      6982 non-null float64\n",
            "Flag_Cliente                           7094 non-null object\n",
            "dtypes: float64(10), int64(16), object(16)\n",
            "memory usage: 2.3+ MB\n"
          ],
          "name": "stdout"
        }
      ]
    },
    {
      "cell_type": "code",
      "metadata": {
        "id": "7v1Xor-681CM",
        "colab_type": "code",
        "outputId": "e8b10c5b-16ba-4742-8677-0c833ce6ba09",
        "colab": {
          "base_uri": "https://localhost:8080/",
          "height": 951
        }
      },
      "source": [
        "%matplotlib inline\n",
        "import matplotlib.pyplot as plt\n",
        "plt.title('Histograma de la Variable Renta')\n",
        "DataSet_Nuevo['Renta'].hist(figsize=(8,16),color=\"blue\",bins=100)"
      ],
      "execution_count": 0,
      "outputs": [
        {
          "output_type": "execute_result",
          "data": {
            "text/plain": [
              "<matplotlib.axes._subplots.AxesSubplot at 0x7f10c005d240>"
            ]
          },
          "metadata": {
            "tags": []
          },
          "execution_count": 24
        },
        {
          "output_type": "display_data",
          "data": {
            "image/png": "[encoded data removed]",
            "text/plain": [
              "<Figure size 576x1152 with 1 Axes>"
            ]
          },
          "metadata": {
            "tags": []
          }
        }
      ]
    },
    {
      "cell_type": "markdown",
      "metadata": {
        "id": "1AvouYdq8Vpk",
        "colab_type": "text"
      },
      "source": [
        "Remplazo de datos"
      ]
    },
    {
      "cell_type": "code",
      "metadata": {
        "id": "VT4YIS71gkPJ",
        "colab_type": "code",
        "outputId": "b95a2a70-5d4a-49d5-b404-ed846d5d501d",
        "colab": {
          "base_uri": "https://localhost:8080/",
          "height": 609
        }
      },
      "source": [
        "DataSet_Nuevo['AntiguedadCuenta_Meses'].hist(figsize=(10,10),color=\"blue\",bins=100)"
      ],
      "execution_count": 0,
      "outputs": [
        {
          "output_type": "execute_result",
          "data": {
            "text/plain": [
              "<matplotlib.axes._subplots.AxesSubplot at 0x7f10c0089828>"
            ]
          },
          "metadata": {
            "tags": []
          },
          "execution_count": 25
        },
        {
          "output_type": "display_data",
          "data": {
            "image/png": "[encoded data removed]",
            "text/plain": [
              "<Figure size 720x720 with 1 Axes>"
            ]
          },
          "metadata": {
            "tags": []
          }
        }
      ]
    },
    {
      "cell_type": "code",
      "metadata": {
        "id": "wt9xKNgkDfwK",
        "colab_type": "code",
        "outputId": "ef03231d-bf82-459b-8b54-741102b2879b",
        "colab": {
          "base_uri": "https://localhost:8080/",
          "height": 119
        }
      },
      "source": [
        "pd.value_counts(DataSet_Nuevo[DataSet_Nuevo.columns[9]],dropna=False)"
      ],
      "execution_count": 0,
      "outputs": [
        {
          "output_type": "execute_result",
          "data": {
            "text/plain": [
              "NaN    4734\n",
              "1.0    1868\n",
              "2.0     344\n",
              "3.0     146\n",
              "4.0       2\n",
              "Name: NumeroAdicionales, dtype: int64"
            ]
          },
          "metadata": {
            "tags": []
          },
          "execution_count": 26
        }
      ]
    },
    {
      "cell_type": "code",
      "metadata": {
        "id": "JqGtMjxODeyF",
        "colab_type": "code",
        "colab": {}
      },
      "source": [
        "DataSet_Nuevo = DataSet_Nuevo.drop(['PeorHabito Pago'], axis=1) "
      ],
      "execution_count": 0,
      "outputs": []
    },
    {
      "cell_type": "code",
      "metadata": {
        "id": "TS1A60y0Dfzy",
        "colab_type": "code",
        "outputId": "0e5c975f-ff8b-4a76-ea2f-21ba873cac67",
        "colab": {
          "base_uri": "https://localhost:8080/",
          "height": 731
        }
      },
      "source": [
        "#imputación no parámetrica \n",
        "data_parametrica=DataSet_Nuevo\n",
        "index_cliente=data_parametrica.Cliente\n",
        "data_parametrica = data_parametrica.drop('Cliente', axis=1)\n",
        "# Revisar los valores perdidos\n",
        "#Creamos una función:\n",
        "def num_missing(x):\n",
        "  return sum(x.isnull())\n",
        "#Aplicamos por columna:\n",
        "print (\"Valores perdidos por columna\")\n",
        "print (data_parametrica.apply(num_missing, axis=0)) "
      ],
      "execution_count": 0,
      "outputs": [
        {
          "output_type": "stream",
          "text": [
            "Valores perdidos por columna\n",
            "Edad                                      0\n",
            "Renta                                  3537\n",
            "Sexo                                      0\n",
            "EstadoCivil                               0\n",
            "NivelSocioEconomico                       0\n",
            "Departamento                              0\n",
            "AntiguedadCuenta_Meses                    0\n",
            "RegistraAdicionales                       0\n",
            "NumeroAdicionales                      4734\n",
            "AntiguedadAdicionales_Meses            4734\n",
            "LineaCreditoNormal                        0\n",
            "SituacionCuenta                           0\n",
            "PromediodePagos                           0\n",
            "SaldoExtra                                0\n",
            "SaldoNormal                               0\n",
            "SaldoTotal                                0\n",
            "HabitodePago1                             0\n",
            "HabitodePago2                             0\n",
            "HabitodePago3                             0\n",
            "HabitodePago4                             1\n",
            "HabitodePago5                            14\n",
            "HabitodePago6                           169\n",
            "HabitodePago7                           371\n",
            "HabitodePago8                           549\n",
            "FlagRefinanciadoHistórico                 0\n",
            "FlagRefinanciado                          0\n",
            "DiasMora200812                          178\n",
            "DiasMora200901                            0\n",
            "DiasMora200902                            0\n",
            "DiasMora200903                            0\n",
            "DiasMora200904                            0\n",
            "DiasMora200905                            0\n",
            "CódigoInstitucion                       117\n",
            "PagaDespues                               0\n",
            "DispEfectivo                              0\n",
            "CalificacionSBS                           0\n",
            "CompraAnual_200806_200905               112\n",
            "NroTransaccionesAnual_200806_200905     112\n",
            "CompraMensualMaxima_200806_200905       112\n",
            "Flag_Cliente                              0\n",
            "dtype: int64\n"
          ],
          "name": "stdout"
        }
      ]
    },
    {
      "cell_type": "code",
      "metadata": {
        "id": "Abd8HtSeDgUl",
        "colab_type": "code",
        "colab": {}
      },
      "source": [
        "# Recodificando y convirtiendo las variables de acuerdo a nuestro criterio\n",
        "# Data de Entrenamiento\n",
        "#train = pd.read_csv(\"C:/Users/Andre Chavez/Desktop/DictadodeCursos/Machine Learning for Data Science-URP/DataSet/Aprendizaje Supervisado/train.csv\") # Leer el dataset en un dataframe usando pandas\n",
        "data_parametrica['Sexo'] = data_parametrica['Sexo'].replace({'M': 1, 'F': 2})\n",
        "data_parametrica['EstadoCivil'] = data_parametrica['EstadoCivil'].replace({'S': 1, 'C': 2,'D': 3, 'V': 4})\n",
        "data_parametrica['NivelSocioEconomico'] = data_parametrica['NivelSocioEconomico'].replace({'C': 1, 'N': 2,'D': 3, 'A': 4,'B': 5})\n",
        "data_parametrica['Departamento'] = data_parametrica['Departamento'].replace({'LIMA': 1, 'PIURA': 2,'LA LIBERTAD': 3, 'LAMBAYEQUE': 4,'AREQUIPA': 5,'ICA': 6, 'CAJAMARCA': 7,'ANCASH': 8,'JUNIN': 9})\n",
        "data_parametrica['PromediodePagos'] = data_parametrica['PromediodePagos'].replace({'0': 0,'1': 1, '2': 2,'3': 3, '4': 4,'5': 5,'6': 6, '7': 7,'8': 8,'9': 9,'A': 10, 'B': 11,'C': 12,'D': 13})\n",
        "data_parametrica['HabitodePago1'] = data_parametrica['HabitodePago1'].replace({'0': 0,'1': 1, '2': 2,'3': 3, '4': 4,'5': 5,'6': 6, '7': 7,'8': 8,'9': 9,'A': 10, 'B': 11,'C': 12,'D': 13})\n",
        "data_parametrica['HabitodePago2'] = data_parametrica['HabitodePago2'].replace({'0': 0,'1': 1, '2': 2,'3': 3, '4': 4,'5': 5,'6': 6, '7': 7,'8': 8,'9': 9,'A': 10, 'B': 11,'C': 12,'D': 13})\n",
        "data_parametrica['HabitodePago3'] = data_parametrica['HabitodePago3'].replace({'0': 0,'1': 1, '2': 2,'3': 3, '4': 4,'5': 5,'6': 6, '7': 7,'8': 8,'9': 9,'A': 10, 'B': 11,'C': 12,'D': 13})\n",
        "data_parametrica['HabitodePago4'] = data_parametrica['HabitodePago4'].replace({'0': 0,'1': 1, '2': 2,'3': 3, '4': 4,'5': 5,'6': 6, '7': 7,'8': 8,'9': 9,'A': 10, 'B': 11,'C': 12,'D': 13})\n",
        "data_parametrica['HabitodePago5'] = data_parametrica['HabitodePago5'].replace({'0': 0,'1': 1, '2': 2,'3': 3, '4': 4,'5': 5,'6': 6, '7': 7,'8': 8,'9': 9,'A': 10, 'B': 11,'C': 12,'D': 13})\n",
        "data_parametrica['HabitodePago6'] = data_parametrica['HabitodePago6'].replace({'0': 0,'1': 1, '2': 2,'3': 3, '4': 4,'5': 5,'6': 6, '7': 7,'8': 8,'9': 9,'A': 10, 'B': 11,'C': 12,'D': 13})\n",
        "data_parametrica['HabitodePago7'] = data_parametrica['HabitodePago7'].replace({'0': 0,'1': 1, '2': 2,'3': 3, '4': 4,'5': 5,'6': 6, '7': 7,'8': 8,'9': 9,'A': 10, 'B': 11,'C': 12,'D': 13})\n",
        "data_parametrica['HabitodePago8'] = data_parametrica['HabitodePago8'].replace({'0': 0,'1': 1, '2': 2,'3': 3, '4': 4,'5': 5,'6': 6, '7': 7,'8': 8,'9': 9,'A': 10, 'B': 11,'C': 12,'D': 13})\n",
        "data_parametrica['FlagRefinanciadoHistórico'] = data_parametrica['FlagRefinanciadoHistórico'].replace({'N/V': 0,'Ref.C': 1,'Ref.D': 2})\n",
        "data_parametrica['FlagRefinanciado'] = data_parametrica['FlagRefinanciado'].replace({'No Registró': 0,'Registró Refinanciación': 1})\n",
        "data_parametrica['CódigoInstitucion'] =data_parametrica['CódigoInstitucion'].fillna(2)\n",
        "data_parametrica['CódigoInstitucion'] = data_parametrica['CódigoInstitucion'].replace(\n",
        "{0.0  :0 , 400.0:1 , 300.0:3 , 951.0:4 , 956.0:5 , 955.0:6 , 952.0:7 , 401.0:8 , 957.0:9 , 302.0:10 , 953.0:11})\n",
        "data_parametrica['Flag_Cliente'] = data_parametrica['Flag_Cliente'].replace({'MALO': 0,'BUENO': 1})"
      ],
      "execution_count": 0,
      "outputs": []
    },
    {
      "cell_type": "code",
      "metadata": {
        "id": "3HZM4McnKM-6",
        "colab_type": "code",
        "colab": {}
      },
      "source": [
        "import numpy as np\n",
        "from sklearn.impute import SimpleImputer\n",
        "column_para_imputar = ['Renta','NumeroAdicionales','AntiguedadAdicionales_Meses','HabitodePago4','HabitodePago5','HabitodePago6',\n",
        "               'HabitodePago7','HabitodePago8','DiasMora200812','CódigoInstitucion','CompraAnual_200806_200905','NroTransaccionesAnual_200806_200905',\n",
        "               'CompraMensualMaxima_200806_200905']\n",
        "\n",
        "for columns in column_para_imputar:\n",
        "  if(type(data_parametrica[columns][0])==np.dtype('int64')):\n",
        "    mode=data_parametrica[columns].mode()\n",
        "    nulls = data_parametrica[data_parametrica[columns].isnull()]\n",
        "    for ni in nulls.index:\n",
        "      data_parametrica.loc[ni, columns] = mode\n",
        "  if(type(data_parametrica[columns][0])==np.dtype('float64')):\n",
        "    mean=data_parametrica[columns].mean()\n",
        "    nulls = data_parametrica[data_parametrica[columns].isnull()]\n",
        "    for ni in nulls.index:\n",
        "      data_parametrica.loc[ni, columns] = mean"
      ],
      "execution_count": 0,
      "outputs": []
    },
    {
      "cell_type": "code",
      "metadata": {
        "id": "X5rr-5FMvW4_",
        "colab_type": "code",
        "outputId": "aea1c950-61b5-4d0f-929b-43d12b1e4859",
        "colab": {
          "base_uri": "https://localhost:8080/",
          "height": 731
        }
      },
      "source": [
        "#Creamos una función:\n",
        "def num_missing(x):\n",
        "  return sum(x.isnull())\n",
        "#Aplicamos por columna:\n",
        "print (\"Valores perdidos por columna\")\n",
        "print (data_parametrica.apply(num_missing, axis=0)) "
      ],
      "execution_count": 0,
      "outputs": [
        {
          "output_type": "stream",
          "text": [
            "Valores perdidos por columna\n",
            "Edad                                   0\n",
            "Renta                                  0\n",
            "Sexo                                   0\n",
            "EstadoCivil                            0\n",
            "NivelSocioEconomico                    0\n",
            "Departamento                           0\n",
            "AntiguedadCuenta_Meses                 0\n",
            "RegistraAdicionales                    0\n",
            "NumeroAdicionales                      0\n",
            "AntiguedadAdicionales_Meses            0\n",
            "LineaCreditoNormal                     0\n",
            "SituacionCuenta                        0\n",
            "PromediodePagos                        0\n",
            "SaldoExtra                             0\n",
            "SaldoNormal                            0\n",
            "SaldoTotal                             0\n",
            "HabitodePago1                          0\n",
            "HabitodePago2                          0\n",
            "HabitodePago3                          0\n",
            "HabitodePago4                          0\n",
            "HabitodePago5                          0\n",
            "HabitodePago6                          0\n",
            "HabitodePago7                          0\n",
            "HabitodePago8                          0\n",
            "FlagRefinanciadoHistórico              0\n",
            "FlagRefinanciado                       0\n",
            "DiasMora200812                         0\n",
            "DiasMora200901                         0\n",
            "DiasMora200902                         0\n",
            "DiasMora200903                         0\n",
            "DiasMora200904                         0\n",
            "DiasMora200905                         0\n",
            "CódigoInstitucion                      0\n",
            "PagaDespues                            0\n",
            "DispEfectivo                           0\n",
            "CalificacionSBS                        0\n",
            "CompraAnual_200806_200905              0\n",
            "NroTransaccionesAnual_200806_200905    0\n",
            "CompraMensualMaxima_200806_200905      0\n",
            "Flag_Cliente                           0\n",
            "dtype: int64\n"
          ],
          "name": "stdout"
        }
      ]
    },
    {
      "cell_type": "code",
      "metadata": {
        "id": "haUwSc_f5s1k",
        "colab_type": "code",
        "outputId": "2decc2db-8481-4e9e-9813-5c55c33ccfeb",
        "colab": {
          "base_uri": "https://localhost:8080/",
          "height": 191
        }
      },
      "source": [
        "df=data_parametrica\n",
        "tipos = df.columns.to_series().groupby(df.dtypes).groups\n",
        "for columnas_a_dumear in tipos[np.dtype('int64')]:\n",
        "  frames =[df,pd.get_dummies(df[columnas_a_dumear])]\n",
        "  df=pd.concat(frames,axis=1)\n",
        "df.head(3)"
      ],
      "execution_count": 0,
      "outputs": [
        {
          "output_type": "execute_result",
          "data": {
            "text/html": [
              "<div>\n",
              "<style scoped>\n",
              "    .dataframe tbody tr th:only-of-type {\n",
              "        vertical-align: middle;\n",
              "    }\n",
              "\n",
              "    .dataframe tbody tr th {\n",
              "        vertical-align: top;\n",
              "    }\n",
              "\n",
              "    .dataframe thead th {\n",
              "        text-align: right;\n",
              "    }\n",
              "</style>\n",
              "<table border=\"1\" class=\"dataframe\">\n",
              "  <thead>\n",
              "    <tr style=\"text-align: right;\">\n",
              "      <th></th>\n",
              "      <th>Edad</th>\n",
              "      <th>Renta</th>\n",
              "      <th>Sexo</th>\n",
              "      <th>EstadoCivil</th>\n",
              "      <th>NivelSocioEconomico</th>\n",
              "      <th>Departamento</th>\n",
              "      <th>AntiguedadCuenta_Meses</th>\n",
              "      <th>RegistraAdicionales</th>\n",
              "      <th>NumeroAdicionales</th>\n",
              "      <th>AntiguedadAdicionales_Meses</th>\n",
              "      <th>LineaCreditoNormal</th>\n",
              "      <th>SituacionCuenta</th>\n",
              "      <th>PromediodePagos</th>\n",
              "      <th>SaldoExtra</th>\n",
              "      <th>SaldoNormal</th>\n",
              "      <th>SaldoTotal</th>\n",
              "      <th>HabitodePago1</th>\n",
              "      <th>HabitodePago2</th>\n",
              "      <th>HabitodePago3</th>\n",
              "      <th>HabitodePago4</th>\n",
              "      <th>HabitodePago5</th>\n",
              "      <th>HabitodePago6</th>\n",
              "      <th>HabitodePago7</th>\n",
              "      <th>HabitodePago8</th>\n",
              "      <th>FlagRefinanciadoHistórico</th>\n",
              "      <th>FlagRefinanciado</th>\n",
              "      <th>DiasMora200812</th>\n",
              "      <th>DiasMora200901</th>\n",
              "      <th>DiasMora200902</th>\n",
              "      <th>DiasMora200903</th>\n",
              "      <th>DiasMora200904</th>\n",
              "      <th>DiasMora200905</th>\n",
              "      <th>CódigoInstitucion</th>\n",
              "      <th>PagaDespues</th>\n",
              "      <th>DispEfectivo</th>\n",
              "      <th>CalificacionSBS</th>\n",
              "      <th>CompraAnual_200806_200905</th>\n",
              "      <th>NroTransaccionesAnual_200806_200905</th>\n",
              "      <th>CompraMensualMaxima_200806_200905</th>\n",
              "      <th>Flag_Cliente</th>\n",
              "      <th>...</th>\n",
              "      <th>46</th>\n",
              "      <th>51</th>\n",
              "      <th>56</th>\n",
              "      <th>62</th>\n",
              "      <th>67</th>\n",
              "      <th>72</th>\n",
              "      <th>77</th>\n",
              "      <th>82</th>\n",
              "      <th>87</th>\n",
              "      <th>92</th>\n",
              "      <th>95</th>\n",
              "      <th>100</th>\n",
              "      <th>105</th>\n",
              "      <th>110</th>\n",
              "      <th>115</th>\n",
              "      <th>121</th>\n",
              "      <th>0</th>\n",
              "      <th>1</th>\n",
              "      <th>2</th>\n",
              "      <th>3</th>\n",
              "      <th>0</th>\n",
              "      <th>1</th>\n",
              "      <th>2</th>\n",
              "      <th>3</th>\n",
              "      <th>4</th>\n",
              "      <th>5</th>\n",
              "      <th>6</th>\n",
              "      <th>7</th>\n",
              "      <th>8</th>\n",
              "      <th>9</th>\n",
              "      <th>10</th>\n",
              "      <th>11</th>\n",
              "      <th>12</th>\n",
              "      <th>0</th>\n",
              "      <th>1</th>\n",
              "      <th>2</th>\n",
              "      <th>3</th>\n",
              "      <th>4</th>\n",
              "      <th>0</th>\n",
              "      <th>1</th>\n",
              "    </tr>\n",
              "  </thead>\n",
              "  <tbody>\n",
              "    <tr>\n",
              "      <th>2601</th>\n",
              "      <td>22</td>\n",
              "      <td>2534.16587</td>\n",
              "      <td>2</td>\n",
              "      <td>1</td>\n",
              "      <td>2</td>\n",
              "      <td>4</td>\n",
              "      <td>13.03</td>\n",
              "      <td>0</td>\n",
              "      <td>1.272034</td>\n",
              "      <td>25.059081</td>\n",
              "      <td>1300</td>\n",
              "      <td>5</td>\n",
              "      <td>5</td>\n",
              "      <td>0</td>\n",
              "      <td>1973</td>\n",
              "      <td>1973</td>\n",
              "      <td>10</td>\n",
              "      <td>4</td>\n",
              "      <td>1</td>\n",
              "      <td>1.0</td>\n",
              "      <td>11.0</td>\n",
              "      <td>10.0</td>\n",
              "      <td>4.0</td>\n",
              "      <td>1.0</td>\n",
              "      <td>1</td>\n",
              "      <td>1</td>\n",
              "      <td>56.000000</td>\n",
              "      <td>0</td>\n",
              "      <td>0</td>\n",
              "      <td>0</td>\n",
              "      <td>25</td>\n",
              "      <td>56</td>\n",
              "      <td>0.0</td>\n",
              "      <td>0</td>\n",
              "      <td>0</td>\n",
              "      <td>1</td>\n",
              "      <td>2125.63</td>\n",
              "      <td>40.0</td>\n",
              "      <td>587.76</td>\n",
              "      <td>0</td>\n",
              "      <td>...</td>\n",
              "      <td>0</td>\n",
              "      <td>0</td>\n",
              "      <td>1</td>\n",
              "      <td>0</td>\n",
              "      <td>0</td>\n",
              "      <td>0</td>\n",
              "      <td>0</td>\n",
              "      <td>0</td>\n",
              "      <td>0</td>\n",
              "      <td>0</td>\n",
              "      <td>0</td>\n",
              "      <td>0</td>\n",
              "      <td>0</td>\n",
              "      <td>0</td>\n",
              "      <td>0</td>\n",
              "      <td>0</td>\n",
              "      <td>1</td>\n",
              "      <td>0</td>\n",
              "      <td>0</td>\n",
              "      <td>0</td>\n",
              "      <td>1</td>\n",
              "      <td>0</td>\n",
              "      <td>0</td>\n",
              "      <td>0</td>\n",
              "      <td>0</td>\n",
              "      <td>0</td>\n",
              "      <td>0</td>\n",
              "      <td>0</td>\n",
              "      <td>0</td>\n",
              "      <td>0</td>\n",
              "      <td>0</td>\n",
              "      <td>0</td>\n",
              "      <td>0</td>\n",
              "      <td>0</td>\n",
              "      <td>1</td>\n",
              "      <td>0</td>\n",
              "      <td>0</td>\n",
              "      <td>0</td>\n",
              "      <td>1</td>\n",
              "      <td>0</td>\n",
              "    </tr>\n",
              "    <tr>\n",
              "      <th>841</th>\n",
              "      <td>25</td>\n",
              "      <td>2534.16587</td>\n",
              "      <td>1</td>\n",
              "      <td>1</td>\n",
              "      <td>1</td>\n",
              "      <td>1</td>\n",
              "      <td>51.17</td>\n",
              "      <td>0</td>\n",
              "      <td>1.272034</td>\n",
              "      <td>25.059081</td>\n",
              "      <td>800</td>\n",
              "      <td>5</td>\n",
              "      <td>5</td>\n",
              "      <td>0</td>\n",
              "      <td>791</td>\n",
              "      <td>791</td>\n",
              "      <td>11</td>\n",
              "      <td>10</td>\n",
              "      <td>4</td>\n",
              "      <td>2.0</td>\n",
              "      <td>1.0</td>\n",
              "      <td>2.0</td>\n",
              "      <td>1.0</td>\n",
              "      <td>1.0</td>\n",
              "      <td>0</td>\n",
              "      <td>0</td>\n",
              "      <td>5.634037</td>\n",
              "      <td>1</td>\n",
              "      <td>0</td>\n",
              "      <td>31</td>\n",
              "      <td>31</td>\n",
              "      <td>1</td>\n",
              "      <td>0.0</td>\n",
              "      <td>0</td>\n",
              "      <td>0</td>\n",
              "      <td>3</td>\n",
              "      <td>2484.22</td>\n",
              "      <td>35.0</td>\n",
              "      <td>726.60</td>\n",
              "      <td>0</td>\n",
              "      <td>...</td>\n",
              "      <td>0</td>\n",
              "      <td>0</td>\n",
              "      <td>0</td>\n",
              "      <td>0</td>\n",
              "      <td>0</td>\n",
              "      <td>0</td>\n",
              "      <td>0</td>\n",
              "      <td>0</td>\n",
              "      <td>0</td>\n",
              "      <td>0</td>\n",
              "      <td>0</td>\n",
              "      <td>0</td>\n",
              "      <td>0</td>\n",
              "      <td>0</td>\n",
              "      <td>0</td>\n",
              "      <td>0</td>\n",
              "      <td>1</td>\n",
              "      <td>0</td>\n",
              "      <td>0</td>\n",
              "      <td>0</td>\n",
              "      <td>1</td>\n",
              "      <td>0</td>\n",
              "      <td>0</td>\n",
              "      <td>0</td>\n",
              "      <td>0</td>\n",
              "      <td>0</td>\n",
              "      <td>0</td>\n",
              "      <td>0</td>\n",
              "      <td>0</td>\n",
              "      <td>0</td>\n",
              "      <td>0</td>\n",
              "      <td>0</td>\n",
              "      <td>0</td>\n",
              "      <td>0</td>\n",
              "      <td>0</td>\n",
              "      <td>0</td>\n",
              "      <td>1</td>\n",
              "      <td>0</td>\n",
              "      <td>1</td>\n",
              "      <td>0</td>\n",
              "    </tr>\n",
              "    <tr>\n",
              "      <th>427</th>\n",
              "      <td>56</td>\n",
              "      <td>2534.16587</td>\n",
              "      <td>1</td>\n",
              "      <td>2</td>\n",
              "      <td>4</td>\n",
              "      <td>1</td>\n",
              "      <td>103.93</td>\n",
              "      <td>0</td>\n",
              "      <td>1.272034</td>\n",
              "      <td>25.059081</td>\n",
              "      <td>12000</td>\n",
              "      <td>5</td>\n",
              "      <td>8</td>\n",
              "      <td>5952</td>\n",
              "      <td>6905</td>\n",
              "      <td>12857</td>\n",
              "      <td>12</td>\n",
              "      <td>11</td>\n",
              "      <td>11</td>\n",
              "      <td>10.0</td>\n",
              "      <td>4.0</td>\n",
              "      <td>2.0</td>\n",
              "      <td>2.0</td>\n",
              "      <td>2.0</td>\n",
              "      <td>0</td>\n",
              "      <td>0</td>\n",
              "      <td>1.000000</td>\n",
              "      <td>32</td>\n",
              "      <td>29</td>\n",
              "      <td>60</td>\n",
              "      <td>31</td>\n",
              "      <td>62</td>\n",
              "      <td>0.0</td>\n",
              "      <td>1</td>\n",
              "      <td>0</td>\n",
              "      <td>0</td>\n",
              "      <td>5921.56</td>\n",
              "      <td>27.0</td>\n",
              "      <td>1898.39</td>\n",
              "      <td>0</td>\n",
              "      <td>...</td>\n",
              "      <td>0</td>\n",
              "      <td>0</td>\n",
              "      <td>0</td>\n",
              "      <td>1</td>\n",
              "      <td>0</td>\n",
              "      <td>0</td>\n",
              "      <td>0</td>\n",
              "      <td>0</td>\n",
              "      <td>0</td>\n",
              "      <td>0</td>\n",
              "      <td>0</td>\n",
              "      <td>0</td>\n",
              "      <td>0</td>\n",
              "      <td>0</td>\n",
              "      <td>0</td>\n",
              "      <td>0</td>\n",
              "      <td>0</td>\n",
              "      <td>1</td>\n",
              "      <td>0</td>\n",
              "      <td>0</td>\n",
              "      <td>1</td>\n",
              "      <td>0</td>\n",
              "      <td>0</td>\n",
              "      <td>0</td>\n",
              "      <td>0</td>\n",
              "      <td>0</td>\n",
              "      <td>0</td>\n",
              "      <td>0</td>\n",
              "      <td>0</td>\n",
              "      <td>0</td>\n",
              "      <td>0</td>\n",
              "      <td>0</td>\n",
              "      <td>0</td>\n",
              "      <td>1</td>\n",
              "      <td>0</td>\n",
              "      <td>0</td>\n",
              "      <td>0</td>\n",
              "      <td>0</td>\n",
              "      <td>1</td>\n",
              "      <td>0</td>\n",
              "    </tr>\n",
              "  </tbody>\n",
              "</table>\n",
              "<p>3 rows × 7215 columns</p>\n",
              "</div>"
            ],
            "text/plain": [
              "      Edad       Renta  Sexo  EstadoCivil  NivelSocioEconomico  ...  2  3  4  0  1\n",
              "2601    22  2534.16587     2            1                    2  ...  0  0  0  1  0\n",
              "841     25  2534.16587     1            1                    1  ...  0  1  0  1  0\n",
              "427     56  2534.16587     1            2                    4  ...  0  0  0  1  0\n",
              "\n",
              "[3 rows x 7215 columns]"
            ]
          },
          "metadata": {
            "tags": []
          },
          "execution_count": 32
        }
      ]
    },
    {
      "cell_type": "code",
      "metadata": {
        "id": "kfa_duXW9YIT",
        "colab_type": "code",
        "outputId": "19b13bb1-7a02-436f-cce3-14ed21838ec2",
        "colab": {
          "base_uri": "https://localhost:8080/",
          "height": 153
        }
      },
      "source": [
        "tipos[np.dtype('int64')]"
      ],
      "execution_count": 0,
      "outputs": [
        {
          "output_type": "execute_result",
          "data": {
            "text/plain": [
              "Index(['Edad', 'Sexo', 'EstadoCivil', 'NivelSocioEconomico', 'Departamento',\n",
              "       'RegistraAdicionales', 'LineaCreditoNormal', 'SituacionCuenta',\n",
              "       'PromediodePagos', 'SaldoExtra', 'SaldoNormal', 'SaldoTotal',\n",
              "       'HabitodePago1', 'HabitodePago2', 'HabitodePago3',\n",
              "       'FlagRefinanciadoHistórico', 'FlagRefinanciado', 'DiasMora200901',\n",
              "       'DiasMora200902', 'DiasMora200903', 'DiasMora200904', 'DiasMora200905',\n",
              "       'PagaDespues', 'DispEfectivo', 'CalificacionSBS', 'Flag_Cliente'],\n",
              "      dtype='object')"
            ]
          },
          "metadata": {
            "tags": []
          },
          "execution_count": 33
        }
      ]
    },
    {
      "cell_type": "code",
      "metadata": {
        "id": "oKvJV7Xl-L2C",
        "colab_type": "code",
        "colab": {}
      },
      "source": [
        "categ=['Edad', 'Sexo', 'EstadoCivil', 'NivelSocioEconomico', 'Departamento',\n",
        "       'RegistraAdicionales', 'LineaCreditoNormal', 'SituacionCuenta',\n",
        "       'PromediodePagos', 'SaldoExtra', 'SaldoNormal', 'SaldoTotal',\n",
        "       'HabitodePago1', 'HabitodePago2', 'HabitodePago3',\n",
        "       'FlagRefinanciadoHistórico', 'FlagRefinanciado', 'DiasMora200901',\n",
        "       'DiasMora200902', 'DiasMora200903', 'DiasMora200904', 'DiasMora200905',\n",
        "       'PagaDespues', 'DispEfectivo', 'CalificacionSBS', 'Flag_Cliente']"
      ],
      "execution_count": 0,
      "outputs": []
    },
    {
      "cell_type": "markdown",
      "metadata": {
        "id": "ZQHPS8YMA0XI",
        "colab_type": "text"
      },
      "source": [
        ""
      ]
    },
    {
      "cell_type": "code",
      "metadata": {
        "id": "t2iGZerTANhB",
        "colab_type": "code",
        "colab": {}
      },
      "source": [
        "#index_cliente.index=index_cliente.reset_index(drop=True).index\n",
        "frames =[data_parametrica,index_cliente]\n",
        "Data_completo=pd.concat(frames,axis=1)"
      ],
      "execution_count": 0,
      "outputs": []
    },
    {
      "cell_type": "code",
      "metadata": {
        "id": "2PSQRf-nr2Ir",
        "colab_type": "code",
        "colab": {}
      },
      "source": [
        "Data_completo=Data_completo.reset_index(drop=True)"
      ],
      "execution_count": 0,
      "outputs": []
    },
    {
      "cell_type": "code",
      "metadata": {
        "id": "D1Ox2Yp9uYO3",
        "colab_type": "code",
        "colab": {}
      },
      "source": [
        "Data_completo.index=Data_completo['Cliente']"
      ],
      "execution_count": 0,
      "outputs": []
    },
    {
      "cell_type": "code",
      "metadata": {
        "id": "5P8vWoLcruXd",
        "colab_type": "code",
        "outputId": "857a837d-0529-43a5-83dd-a4f4cb789aea",
        "colab": {
          "base_uri": "https://localhost:8080/",
          "height": 255
        }
      },
      "source": [
        "Data_completo.head()"
      ],
      "execution_count": 0,
      "outputs": [
        {
          "output_type": "execute_result",
          "data": {
            "text/html": [
              "<div>\n",
              "<style scoped>\n",
              "    .dataframe tbody tr th:only-of-type {\n",
              "        vertical-align: middle;\n",
              "    }\n",
              "\n",
              "    .dataframe tbody tr th {\n",
              "        vertical-align: top;\n",
              "    }\n",
              "\n",
              "    .dataframe thead th {\n",
              "        text-align: right;\n",
              "    }\n",
              "</style>\n",
              "<table border=\"1\" class=\"dataframe\">\n",
              "  <thead>\n",
              "    <tr style=\"text-align: right;\">\n",
              "      <th></th>\n",
              "      <th>Edad</th>\n",
              "      <th>Renta</th>\n",
              "      <th>Sexo</th>\n",
              "      <th>EstadoCivil</th>\n",
              "      <th>NivelSocioEconomico</th>\n",
              "      <th>Departamento</th>\n",
              "      <th>AntiguedadCuenta_Meses</th>\n",
              "      <th>RegistraAdicionales</th>\n",
              "      <th>NumeroAdicionales</th>\n",
              "      <th>AntiguedadAdicionales_Meses</th>\n",
              "      <th>LineaCreditoNormal</th>\n",
              "      <th>SituacionCuenta</th>\n",
              "      <th>PromediodePagos</th>\n",
              "      <th>SaldoExtra</th>\n",
              "      <th>SaldoNormal</th>\n",
              "      <th>SaldoTotal</th>\n",
              "      <th>HabitodePago1</th>\n",
              "      <th>HabitodePago2</th>\n",
              "      <th>HabitodePago3</th>\n",
              "      <th>HabitodePago4</th>\n",
              "      <th>HabitodePago5</th>\n",
              "      <th>HabitodePago6</th>\n",
              "      <th>HabitodePago7</th>\n",
              "      <th>HabitodePago8</th>\n",
              "      <th>FlagRefinanciadoHistórico</th>\n",
              "      <th>FlagRefinanciado</th>\n",
              "      <th>DiasMora200812</th>\n",
              "      <th>DiasMora200901</th>\n",
              "      <th>DiasMora200902</th>\n",
              "      <th>DiasMora200903</th>\n",
              "      <th>DiasMora200904</th>\n",
              "      <th>DiasMora200905</th>\n",
              "      <th>CódigoInstitucion</th>\n",
              "      <th>PagaDespues</th>\n",
              "      <th>DispEfectivo</th>\n",
              "      <th>CalificacionSBS</th>\n",
              "      <th>CompraAnual_200806_200905</th>\n",
              "      <th>NroTransaccionesAnual_200806_200905</th>\n",
              "      <th>CompraMensualMaxima_200806_200905</th>\n",
              "      <th>Flag_Cliente</th>\n",
              "      <th>Cliente</th>\n",
              "    </tr>\n",
              "    <tr>\n",
              "      <th>Cliente</th>\n",
              "      <th></th>\n",
              "      <th></th>\n",
              "      <th></th>\n",
              "      <th></th>\n",
              "      <th></th>\n",
              "      <th></th>\n",
              "      <th></th>\n",
              "      <th></th>\n",
              "      <th></th>\n",
              "      <th></th>\n",
              "      <th></th>\n",
              "      <th></th>\n",
              "      <th></th>\n",
              "      <th></th>\n",
              "      <th></th>\n",
              "      <th></th>\n",
              "      <th></th>\n",
              "      <th></th>\n",
              "      <th></th>\n",
              "      <th></th>\n",
              "      <th></th>\n",
              "      <th></th>\n",
              "      <th></th>\n",
              "      <th></th>\n",
              "      <th></th>\n",
              "      <th></th>\n",
              "      <th></th>\n",
              "      <th></th>\n",
              "      <th></th>\n",
              "      <th></th>\n",
              "      <th></th>\n",
              "      <th></th>\n",
              "      <th></th>\n",
              "      <th></th>\n",
              "      <th></th>\n",
              "      <th></th>\n",
              "      <th></th>\n",
              "      <th></th>\n",
              "      <th></th>\n",
              "      <th></th>\n",
              "      <th></th>\n",
              "    </tr>\n",
              "  </thead>\n",
              "  <tbody>\n",
              "    <tr>\n",
              "      <th>2101491</th>\n",
              "      <td>22</td>\n",
              "      <td>2534.16587</td>\n",
              "      <td>2</td>\n",
              "      <td>1</td>\n",
              "      <td>2</td>\n",
              "      <td>4</td>\n",
              "      <td>13.03</td>\n",
              "      <td>0</td>\n",
              "      <td>1.272034</td>\n",
              "      <td>25.059081</td>\n",
              "      <td>1300</td>\n",
              "      <td>5</td>\n",
              "      <td>5</td>\n",
              "      <td>0</td>\n",
              "      <td>1973</td>\n",
              "      <td>1973</td>\n",
              "      <td>10</td>\n",
              "      <td>4</td>\n",
              "      <td>1</td>\n",
              "      <td>1.0</td>\n",
              "      <td>11.0</td>\n",
              "      <td>10.000000</td>\n",
              "      <td>4.000000</td>\n",
              "      <td>1.00000</td>\n",
              "      <td>1</td>\n",
              "      <td>1</td>\n",
              "      <td>56.000000</td>\n",
              "      <td>0</td>\n",
              "      <td>0</td>\n",
              "      <td>0</td>\n",
              "      <td>25</td>\n",
              "      <td>56</td>\n",
              "      <td>0.0</td>\n",
              "      <td>0</td>\n",
              "      <td>0</td>\n",
              "      <td>1</td>\n",
              "      <td>2125.63</td>\n",
              "      <td>40.0</td>\n",
              "      <td>587.76</td>\n",
              "      <td>0</td>\n",
              "      <td>2101491</td>\n",
              "    </tr>\n",
              "    <tr>\n",
              "      <th>1008870</th>\n",
              "      <td>25</td>\n",
              "      <td>2534.16587</td>\n",
              "      <td>1</td>\n",
              "      <td>1</td>\n",
              "      <td>1</td>\n",
              "      <td>1</td>\n",
              "      <td>51.17</td>\n",
              "      <td>0</td>\n",
              "      <td>1.272034</td>\n",
              "      <td>25.059081</td>\n",
              "      <td>800</td>\n",
              "      <td>5</td>\n",
              "      <td>5</td>\n",
              "      <td>0</td>\n",
              "      <td>791</td>\n",
              "      <td>791</td>\n",
              "      <td>11</td>\n",
              "      <td>10</td>\n",
              "      <td>4</td>\n",
              "      <td>2.0</td>\n",
              "      <td>1.0</td>\n",
              "      <td>2.000000</td>\n",
              "      <td>1.000000</td>\n",
              "      <td>1.00000</td>\n",
              "      <td>0</td>\n",
              "      <td>0</td>\n",
              "      <td>5.634037</td>\n",
              "      <td>1</td>\n",
              "      <td>0</td>\n",
              "      <td>31</td>\n",
              "      <td>31</td>\n",
              "      <td>1</td>\n",
              "      <td>0.0</td>\n",
              "      <td>0</td>\n",
              "      <td>0</td>\n",
              "      <td>3</td>\n",
              "      <td>2484.22</td>\n",
              "      <td>35.0</td>\n",
              "      <td>726.60</td>\n",
              "      <td>0</td>\n",
              "      <td>1008870</td>\n",
              "    </tr>\n",
              "    <tr>\n",
              "      <th>500608</th>\n",
              "      <td>56</td>\n",
              "      <td>2534.16587</td>\n",
              "      <td>1</td>\n",
              "      <td>2</td>\n",
              "      <td>4</td>\n",
              "      <td>1</td>\n",
              "      <td>103.93</td>\n",
              "      <td>0</td>\n",
              "      <td>1.272034</td>\n",
              "      <td>25.059081</td>\n",
              "      <td>12000</td>\n",
              "      <td>5</td>\n",
              "      <td>8</td>\n",
              "      <td>5952</td>\n",
              "      <td>6905</td>\n",
              "      <td>12857</td>\n",
              "      <td>12</td>\n",
              "      <td>11</td>\n",
              "      <td>11</td>\n",
              "      <td>10.0</td>\n",
              "      <td>4.0</td>\n",
              "      <td>2.000000</td>\n",
              "      <td>2.000000</td>\n",
              "      <td>2.00000</td>\n",
              "      <td>0</td>\n",
              "      <td>0</td>\n",
              "      <td>1.000000</td>\n",
              "      <td>32</td>\n",
              "      <td>29</td>\n",
              "      <td>60</td>\n",
              "      <td>31</td>\n",
              "      <td>62</td>\n",
              "      <td>0.0</td>\n",
              "      <td>1</td>\n",
              "      <td>0</td>\n",
              "      <td>0</td>\n",
              "      <td>5921.56</td>\n",
              "      <td>27.0</td>\n",
              "      <td>1898.39</td>\n",
              "      <td>0</td>\n",
              "      <td>500608</td>\n",
              "    </tr>\n",
              "    <tr>\n",
              "      <th>2145212</th>\n",
              "      <td>43</td>\n",
              "      <td>2534.16587</td>\n",
              "      <td>2</td>\n",
              "      <td>1</td>\n",
              "      <td>2</td>\n",
              "      <td>3</td>\n",
              "      <td>11.33</td>\n",
              "      <td>0</td>\n",
              "      <td>1.272034</td>\n",
              "      <td>25.059081</td>\n",
              "      <td>800</td>\n",
              "      <td>0</td>\n",
              "      <td>8</td>\n",
              "      <td>0</td>\n",
              "      <td>207</td>\n",
              "      <td>207</td>\n",
              "      <td>10</td>\n",
              "      <td>10</td>\n",
              "      <td>10</td>\n",
              "      <td>11.0</td>\n",
              "      <td>10.0</td>\n",
              "      <td>10.000000</td>\n",
              "      <td>4.000000</td>\n",
              "      <td>1.00000</td>\n",
              "      <td>0</td>\n",
              "      <td>0</td>\n",
              "      <td>31.000000</td>\n",
              "      <td>1</td>\n",
              "      <td>29</td>\n",
              "      <td>1</td>\n",
              "      <td>31</td>\n",
              "      <td>0</td>\n",
              "      <td>0.0</td>\n",
              "      <td>0</td>\n",
              "      <td>0</td>\n",
              "      <td>2</td>\n",
              "      <td>972.48</td>\n",
              "      <td>11.0</td>\n",
              "      <td>608.87</td>\n",
              "      <td>0</td>\n",
              "      <td>2145212</td>\n",
              "    </tr>\n",
              "    <tr>\n",
              "      <th>2288182</th>\n",
              "      <td>22</td>\n",
              "      <td>2534.16587</td>\n",
              "      <td>1</td>\n",
              "      <td>1</td>\n",
              "      <td>3</td>\n",
              "      <td>1</td>\n",
              "      <td>6.20</td>\n",
              "      <td>0</td>\n",
              "      <td>1.272034</td>\n",
              "      <td>25.059081</td>\n",
              "      <td>500</td>\n",
              "      <td>5</td>\n",
              "      <td>9</td>\n",
              "      <td>0</td>\n",
              "      <td>306</td>\n",
              "      <td>306</td>\n",
              "      <td>11</td>\n",
              "      <td>10</td>\n",
              "      <td>4</td>\n",
              "      <td>0.0</td>\n",
              "      <td>0.0</td>\n",
              "      <td>3.691119</td>\n",
              "      <td>3.326789</td>\n",
              "      <td>2.96929</td>\n",
              "      <td>0</td>\n",
              "      <td>0</td>\n",
              "      <td>5.634037</td>\n",
              "      <td>0</td>\n",
              "      <td>0</td>\n",
              "      <td>21</td>\n",
              "      <td>51</td>\n",
              "      <td>21</td>\n",
              "      <td>0.0</td>\n",
              "      <td>0</td>\n",
              "      <td>0</td>\n",
              "      <td>2</td>\n",
              "      <td>395.25</td>\n",
              "      <td>13.0</td>\n",
              "      <td>182.02</td>\n",
              "      <td>0</td>\n",
              "      <td>2288182</td>\n",
              "    </tr>\n",
              "  </tbody>\n",
              "</table>\n",
              "</div>"
            ],
            "text/plain": [
              "         Edad       Renta  ...  Flag_Cliente  Cliente\n",
              "Cliente                    ...                       \n",
              "2101491    22  2534.16587  ...             0  2101491\n",
              "1008870    25  2534.16587  ...             0  1008870\n",
              "500608     56  2534.16587  ...             0   500608\n",
              "2145212    43  2534.16587  ...             0  2145212\n",
              "2288182    22  2534.16587  ...             0  2288182\n",
              "\n",
              "[5 rows x 41 columns]"
            ]
          },
          "metadata": {
            "tags": []
          },
          "execution_count": 38
        }
      ]
    },
    {
      "cell_type": "code",
      "metadata": {
        "id": "kdXkzsKe2ShX",
        "colab_type": "code",
        "colab": {}
      },
      "source": [
        ""
      ],
      "execution_count": 0,
      "outputs": []
    },
    {
      "cell_type": "code",
      "metadata": {
        "id": "Ss6WW5eFvOMl",
        "colab_type": "code",
        "colab": {}
      },
      "source": [
        "\n",
        "for i in range(len(index_Cliente_Train)):\n",
        "   if (i==0):\n",
        "     Train_final=Data_completo[Data_completo['Cliente']==index_Cliente_Train[i]]\n",
        "   else:\n",
        "      Train_final=pd.concat([Train_final,Data_completo[Data_completo['Cliente']==index_Cliente_Train[i]]])"
      ],
      "execution_count": 0,
      "outputs": []
    },
    {
      "cell_type": "code",
      "metadata": {
        "id": "X-O4VjhT2uEw",
        "colab_type": "code",
        "outputId": "89c99a77-f290-4d0e-b9e3-010360e27600",
        "colab": {
          "base_uri": "https://localhost:8080/",
          "height": 255
        }
      },
      "source": [
        "Train_final.head()"
      ],
      "execution_count": 0,
      "outputs": [
        {
          "output_type": "execute_result",
          "data": {
            "text/html": [
              "<div>\n",
              "<style scoped>\n",
              "    .dataframe tbody tr th:only-of-type {\n",
              "        vertical-align: middle;\n",
              "    }\n",
              "\n",
              "    .dataframe tbody tr th {\n",
              "        vertical-align: top;\n",
              "    }\n",
              "\n",
              "    .dataframe thead th {\n",
              "        text-align: right;\n",
              "    }\n",
              "</style>\n",
              "<table border=\"1\" class=\"dataframe\">\n",
              "  <thead>\n",
              "    <tr style=\"text-align: right;\">\n",
              "      <th></th>\n",
              "      <th>Edad</th>\n",
              "      <th>Renta</th>\n",
              "      <th>Sexo</th>\n",
              "      <th>EstadoCivil</th>\n",
              "      <th>NivelSocioEconomico</th>\n",
              "      <th>Departamento</th>\n",
              "      <th>AntiguedadCuenta_Meses</th>\n",
              "      <th>RegistraAdicionales</th>\n",
              "      <th>NumeroAdicionales</th>\n",
              "      <th>AntiguedadAdicionales_Meses</th>\n",
              "      <th>LineaCreditoNormal</th>\n",
              "      <th>SituacionCuenta</th>\n",
              "      <th>PromediodePagos</th>\n",
              "      <th>SaldoExtra</th>\n",
              "      <th>SaldoNormal</th>\n",
              "      <th>SaldoTotal</th>\n",
              "      <th>HabitodePago1</th>\n",
              "      <th>HabitodePago2</th>\n",
              "      <th>HabitodePago3</th>\n",
              "      <th>HabitodePago4</th>\n",
              "      <th>HabitodePago5</th>\n",
              "      <th>HabitodePago6</th>\n",
              "      <th>HabitodePago7</th>\n",
              "      <th>HabitodePago8</th>\n",
              "      <th>FlagRefinanciadoHistórico</th>\n",
              "      <th>FlagRefinanciado</th>\n",
              "      <th>DiasMora200812</th>\n",
              "      <th>DiasMora200901</th>\n",
              "      <th>DiasMora200902</th>\n",
              "      <th>DiasMora200903</th>\n",
              "      <th>DiasMora200904</th>\n",
              "      <th>DiasMora200905</th>\n",
              "      <th>CódigoInstitucion</th>\n",
              "      <th>PagaDespues</th>\n",
              "      <th>DispEfectivo</th>\n",
              "      <th>CalificacionSBS</th>\n",
              "      <th>CompraAnual_200806_200905</th>\n",
              "      <th>NroTransaccionesAnual_200806_200905</th>\n",
              "      <th>CompraMensualMaxima_200806_200905</th>\n",
              "      <th>Flag_Cliente</th>\n",
              "      <th>Cliente</th>\n",
              "    </tr>\n",
              "    <tr>\n",
              "      <th>Cliente</th>\n",
              "      <th></th>\n",
              "      <th></th>\n",
              "      <th></th>\n",
              "      <th></th>\n",
              "      <th></th>\n",
              "      <th></th>\n",
              "      <th></th>\n",
              "      <th></th>\n",
              "      <th></th>\n",
              "      <th></th>\n",
              "      <th></th>\n",
              "      <th></th>\n",
              "      <th></th>\n",
              "      <th></th>\n",
              "      <th></th>\n",
              "      <th></th>\n",
              "      <th></th>\n",
              "      <th></th>\n",
              "      <th></th>\n",
              "      <th></th>\n",
              "      <th></th>\n",
              "      <th></th>\n",
              "      <th></th>\n",
              "      <th></th>\n",
              "      <th></th>\n",
              "      <th></th>\n",
              "      <th></th>\n",
              "      <th></th>\n",
              "      <th></th>\n",
              "      <th></th>\n",
              "      <th></th>\n",
              "      <th></th>\n",
              "      <th></th>\n",
              "      <th></th>\n",
              "      <th></th>\n",
              "      <th></th>\n",
              "      <th></th>\n",
              "      <th></th>\n",
              "      <th></th>\n",
              "      <th></th>\n",
              "      <th></th>\n",
              "    </tr>\n",
              "  </thead>\n",
              "  <tbody>\n",
              "    <tr>\n",
              "      <th>2101491</th>\n",
              "      <td>22</td>\n",
              "      <td>2534.16587</td>\n",
              "      <td>2</td>\n",
              "      <td>1</td>\n",
              "      <td>2</td>\n",
              "      <td>4</td>\n",
              "      <td>13.03</td>\n",
              "      <td>0</td>\n",
              "      <td>1.272034</td>\n",
              "      <td>25.059081</td>\n",
              "      <td>1300</td>\n",
              "      <td>5</td>\n",
              "      <td>5</td>\n",
              "      <td>0</td>\n",
              "      <td>1973</td>\n",
              "      <td>1973</td>\n",
              "      <td>10</td>\n",
              "      <td>4</td>\n",
              "      <td>1</td>\n",
              "      <td>1.0</td>\n",
              "      <td>11.0</td>\n",
              "      <td>10.000000</td>\n",
              "      <td>4.000000</td>\n",
              "      <td>1.00000</td>\n",
              "      <td>1</td>\n",
              "      <td>1</td>\n",
              "      <td>56.000000</td>\n",
              "      <td>0</td>\n",
              "      <td>0</td>\n",
              "      <td>0</td>\n",
              "      <td>25</td>\n",
              "      <td>56</td>\n",
              "      <td>0.0</td>\n",
              "      <td>0</td>\n",
              "      <td>0</td>\n",
              "      <td>1</td>\n",
              "      <td>2125.63</td>\n",
              "      <td>40.0</td>\n",
              "      <td>587.76</td>\n",
              "      <td>0</td>\n",
              "      <td>2101491</td>\n",
              "    </tr>\n",
              "    <tr>\n",
              "      <th>1008870</th>\n",
              "      <td>25</td>\n",
              "      <td>2534.16587</td>\n",
              "      <td>1</td>\n",
              "      <td>1</td>\n",
              "      <td>1</td>\n",
              "      <td>1</td>\n",
              "      <td>51.17</td>\n",
              "      <td>0</td>\n",
              "      <td>1.272034</td>\n",
              "      <td>25.059081</td>\n",
              "      <td>800</td>\n",
              "      <td>5</td>\n",
              "      <td>5</td>\n",
              "      <td>0</td>\n",
              "      <td>791</td>\n",
              "      <td>791</td>\n",
              "      <td>11</td>\n",
              "      <td>10</td>\n",
              "      <td>4</td>\n",
              "      <td>2.0</td>\n",
              "      <td>1.0</td>\n",
              "      <td>2.000000</td>\n",
              "      <td>1.000000</td>\n",
              "      <td>1.00000</td>\n",
              "      <td>0</td>\n",
              "      <td>0</td>\n",
              "      <td>5.634037</td>\n",
              "      <td>1</td>\n",
              "      <td>0</td>\n",
              "      <td>31</td>\n",
              "      <td>31</td>\n",
              "      <td>1</td>\n",
              "      <td>0.0</td>\n",
              "      <td>0</td>\n",
              "      <td>0</td>\n",
              "      <td>3</td>\n",
              "      <td>2484.22</td>\n",
              "      <td>35.0</td>\n",
              "      <td>726.60</td>\n",
              "      <td>0</td>\n",
              "      <td>1008870</td>\n",
              "    </tr>\n",
              "    <tr>\n",
              "      <th>500608</th>\n",
              "      <td>56</td>\n",
              "      <td>2534.16587</td>\n",
              "      <td>1</td>\n",
              "      <td>2</td>\n",
              "      <td>4</td>\n",
              "      <td>1</td>\n",
              "      <td>103.93</td>\n",
              "      <td>0</td>\n",
              "      <td>1.272034</td>\n",
              "      <td>25.059081</td>\n",
              "      <td>12000</td>\n",
              "      <td>5</td>\n",
              "      <td>8</td>\n",
              "      <td>5952</td>\n",
              "      <td>6905</td>\n",
              "      <td>12857</td>\n",
              "      <td>12</td>\n",
              "      <td>11</td>\n",
              "      <td>11</td>\n",
              "      <td>10.0</td>\n",
              "      <td>4.0</td>\n",
              "      <td>2.000000</td>\n",
              "      <td>2.000000</td>\n",
              "      <td>2.00000</td>\n",
              "      <td>0</td>\n",
              "      <td>0</td>\n",
              "      <td>1.000000</td>\n",
              "      <td>32</td>\n",
              "      <td>29</td>\n",
              "      <td>60</td>\n",
              "      <td>31</td>\n",
              "      <td>62</td>\n",
              "      <td>0.0</td>\n",
              "      <td>1</td>\n",
              "      <td>0</td>\n",
              "      <td>0</td>\n",
              "      <td>5921.56</td>\n",
              "      <td>27.0</td>\n",
              "      <td>1898.39</td>\n",
              "      <td>0</td>\n",
              "      <td>500608</td>\n",
              "    </tr>\n",
              "    <tr>\n",
              "      <th>2145212</th>\n",
              "      <td>43</td>\n",
              "      <td>2534.16587</td>\n",
              "      <td>2</td>\n",
              "      <td>1</td>\n",
              "      <td>2</td>\n",
              "      <td>3</td>\n",
              "      <td>11.33</td>\n",
              "      <td>0</td>\n",
              "      <td>1.272034</td>\n",
              "      <td>25.059081</td>\n",
              "      <td>800</td>\n",
              "      <td>0</td>\n",
              "      <td>8</td>\n",
              "      <td>0</td>\n",
              "      <td>207</td>\n",
              "      <td>207</td>\n",
              "      <td>10</td>\n",
              "      <td>10</td>\n",
              "      <td>10</td>\n",
              "      <td>11.0</td>\n",
              "      <td>10.0</td>\n",
              "      <td>10.000000</td>\n",
              "      <td>4.000000</td>\n",
              "      <td>1.00000</td>\n",
              "      <td>0</td>\n",
              "      <td>0</td>\n",
              "      <td>31.000000</td>\n",
              "      <td>1</td>\n",
              "      <td>29</td>\n",
              "      <td>1</td>\n",
              "      <td>31</td>\n",
              "      <td>0</td>\n",
              "      <td>0.0</td>\n",
              "      <td>0</td>\n",
              "      <td>0</td>\n",
              "      <td>2</td>\n",
              "      <td>972.48</td>\n",
              "      <td>11.0</td>\n",
              "      <td>608.87</td>\n",
              "      <td>0</td>\n",
              "      <td>2145212</td>\n",
              "    </tr>\n",
              "    <tr>\n",
              "      <th>2288182</th>\n",
              "      <td>22</td>\n",
              "      <td>2534.16587</td>\n",
              "      <td>1</td>\n",
              "      <td>1</td>\n",
              "      <td>3</td>\n",
              "      <td>1</td>\n",
              "      <td>6.20</td>\n",
              "      <td>0</td>\n",
              "      <td>1.272034</td>\n",
              "      <td>25.059081</td>\n",
              "      <td>500</td>\n",
              "      <td>5</td>\n",
              "      <td>9</td>\n",
              "      <td>0</td>\n",
              "      <td>306</td>\n",
              "      <td>306</td>\n",
              "      <td>11</td>\n",
              "      <td>10</td>\n",
              "      <td>4</td>\n",
              "      <td>0.0</td>\n",
              "      <td>0.0</td>\n",
              "      <td>3.691119</td>\n",
              "      <td>3.326789</td>\n",
              "      <td>2.96929</td>\n",
              "      <td>0</td>\n",
              "      <td>0</td>\n",
              "      <td>5.634037</td>\n",
              "      <td>0</td>\n",
              "      <td>0</td>\n",
              "      <td>21</td>\n",
              "      <td>51</td>\n",
              "      <td>21</td>\n",
              "      <td>0.0</td>\n",
              "      <td>0</td>\n",
              "      <td>0</td>\n",
              "      <td>2</td>\n",
              "      <td>395.25</td>\n",
              "      <td>13.0</td>\n",
              "      <td>182.02</td>\n",
              "      <td>0</td>\n",
              "      <td>2288182</td>\n",
              "    </tr>\n",
              "  </tbody>\n",
              "</table>\n",
              "</div>"
            ],
            "text/plain": [
              "         Edad       Renta  ...  Flag_Cliente  Cliente\n",
              "Cliente                    ...                       \n",
              "2101491    22  2534.16587  ...             0  2101491\n",
              "1008870    25  2534.16587  ...             0  1008870\n",
              "500608     56  2534.16587  ...             0   500608\n",
              "2145212    43  2534.16587  ...             0  2145212\n",
              "2288182    22  2534.16587  ...             0  2288182\n",
              "\n",
              "[5 rows x 41 columns]"
            ]
          },
          "metadata": {
            "tags": []
          },
          "execution_count": 40
        }
      ]
    },
    {
      "cell_type": "code",
      "metadata": {
        "id": "Ck0YaUEb4KLx",
        "colab_type": "code",
        "colab": {}
      },
      "source": [
        "for i in range(len(index_Cliente_Test)):\n",
        "   if (i==0):\n",
        "     Test_final=Data_completo[Data_completo['Cliente']==index_Cliente_Test[i]]\n",
        "   else:\n",
        "      Test_final=pd.concat([Test_final,Data_completo[Data_completo['Cliente']==index_Cliente_Test[i]]])"
      ],
      "execution_count": 0,
      "outputs": []
    },
    {
      "cell_type": "code",
      "metadata": {
        "id": "qUnFC5OZ4KOu",
        "colab_type": "code",
        "outputId": "324fb87c-c398-444e-8c2a-bdad977e4471",
        "colab": {
          "base_uri": "https://localhost:8080/",
          "height": 255
        }
      },
      "source": [
        "Test_final.head()"
      ],
      "execution_count": 0,
      "outputs": [
        {
          "output_type": "execute_result",
          "data": {
            "text/html": [
              "<div>\n",
              "<style scoped>\n",
              "    .dataframe tbody tr th:only-of-type {\n",
              "        vertical-align: middle;\n",
              "    }\n",
              "\n",
              "    .dataframe tbody tr th {\n",
              "        vertical-align: top;\n",
              "    }\n",
              "\n",
              "    .dataframe thead th {\n",
              "        text-align: right;\n",
              "    }\n",
              "</style>\n",
              "<table border=\"1\" class=\"dataframe\">\n",
              "  <thead>\n",
              "    <tr style=\"text-align: right;\">\n",
              "      <th></th>\n",
              "      <th>Edad</th>\n",
              "      <th>Renta</th>\n",
              "      <th>Sexo</th>\n",
              "      <th>EstadoCivil</th>\n",
              "      <th>NivelSocioEconomico</th>\n",
              "      <th>Departamento</th>\n",
              "      <th>AntiguedadCuenta_Meses</th>\n",
              "      <th>RegistraAdicionales</th>\n",
              "      <th>NumeroAdicionales</th>\n",
              "      <th>AntiguedadAdicionales_Meses</th>\n",
              "      <th>LineaCreditoNormal</th>\n",
              "      <th>SituacionCuenta</th>\n",
              "      <th>PromediodePagos</th>\n",
              "      <th>SaldoExtra</th>\n",
              "      <th>SaldoNormal</th>\n",
              "      <th>SaldoTotal</th>\n",
              "      <th>HabitodePago1</th>\n",
              "      <th>HabitodePago2</th>\n",
              "      <th>HabitodePago3</th>\n",
              "      <th>HabitodePago4</th>\n",
              "      <th>HabitodePago5</th>\n",
              "      <th>HabitodePago6</th>\n",
              "      <th>HabitodePago7</th>\n",
              "      <th>HabitodePago8</th>\n",
              "      <th>FlagRefinanciadoHistórico</th>\n",
              "      <th>FlagRefinanciado</th>\n",
              "      <th>DiasMora200812</th>\n",
              "      <th>DiasMora200901</th>\n",
              "      <th>DiasMora200902</th>\n",
              "      <th>DiasMora200903</th>\n",
              "      <th>DiasMora200904</th>\n",
              "      <th>DiasMora200905</th>\n",
              "      <th>CódigoInstitucion</th>\n",
              "      <th>PagaDespues</th>\n",
              "      <th>DispEfectivo</th>\n",
              "      <th>CalificacionSBS</th>\n",
              "      <th>CompraAnual_200806_200905</th>\n",
              "      <th>NroTransaccionesAnual_200806_200905</th>\n",
              "      <th>CompraMensualMaxima_200806_200905</th>\n",
              "      <th>Flag_Cliente</th>\n",
              "      <th>Cliente</th>\n",
              "    </tr>\n",
              "    <tr>\n",
              "      <th>Cliente</th>\n",
              "      <th></th>\n",
              "      <th></th>\n",
              "      <th></th>\n",
              "      <th></th>\n",
              "      <th></th>\n",
              "      <th></th>\n",
              "      <th></th>\n",
              "      <th></th>\n",
              "      <th></th>\n",
              "      <th></th>\n",
              "      <th></th>\n",
              "      <th></th>\n",
              "      <th></th>\n",
              "      <th></th>\n",
              "      <th></th>\n",
              "      <th></th>\n",
              "      <th></th>\n",
              "      <th></th>\n",
              "      <th></th>\n",
              "      <th></th>\n",
              "      <th></th>\n",
              "      <th></th>\n",
              "      <th></th>\n",
              "      <th></th>\n",
              "      <th></th>\n",
              "      <th></th>\n",
              "      <th></th>\n",
              "      <th></th>\n",
              "      <th></th>\n",
              "      <th></th>\n",
              "      <th></th>\n",
              "      <th></th>\n",
              "      <th></th>\n",
              "      <th></th>\n",
              "      <th></th>\n",
              "      <th></th>\n",
              "      <th></th>\n",
              "      <th></th>\n",
              "      <th></th>\n",
              "      <th></th>\n",
              "      <th></th>\n",
              "    </tr>\n",
              "  </thead>\n",
              "  <tbody>\n",
              "    <tr>\n",
              "      <th>676110</th>\n",
              "      <td>78</td>\n",
              "      <td>893.00000</td>\n",
              "      <td>2</td>\n",
              "      <td>1</td>\n",
              "      <td>2</td>\n",
              "      <td>4</td>\n",
              "      <td>93.30</td>\n",
              "      <td>1</td>\n",
              "      <td>1.000000</td>\n",
              "      <td>39.230000</td>\n",
              "      <td>600</td>\n",
              "      <td>5</td>\n",
              "      <td>5</td>\n",
              "      <td>0</td>\n",
              "      <td>744</td>\n",
              "      <td>744</td>\n",
              "      <td>10</td>\n",
              "      <td>4</td>\n",
              "      <td>9</td>\n",
              "      <td>4.0</td>\n",
              "      <td>2.0</td>\n",
              "      <td>1.0</td>\n",
              "      <td>2.0</td>\n",
              "      <td>2.0</td>\n",
              "      <td>0</td>\n",
              "      <td>0</td>\n",
              "      <td>0.0</td>\n",
              "      <td>11</td>\n",
              "      <td>39</td>\n",
              "      <td>11</td>\n",
              "      <td>41</td>\n",
              "      <td>72</td>\n",
              "      <td>0.0</td>\n",
              "      <td>1</td>\n",
              "      <td>3</td>\n",
              "      <td>2</td>\n",
              "      <td>1897.45</td>\n",
              "      <td>47.0</td>\n",
              "      <td>502.13</td>\n",
              "      <td>0</td>\n",
              "      <td>676110</td>\n",
              "    </tr>\n",
              "    <tr>\n",
              "      <th>1747726</th>\n",
              "      <td>29</td>\n",
              "      <td>2534.16587</td>\n",
              "      <td>2</td>\n",
              "      <td>1</td>\n",
              "      <td>3</td>\n",
              "      <td>1</td>\n",
              "      <td>28.40</td>\n",
              "      <td>0</td>\n",
              "      <td>1.272034</td>\n",
              "      <td>25.059081</td>\n",
              "      <td>500</td>\n",
              "      <td>5</td>\n",
              "      <td>6</td>\n",
              "      <td>0</td>\n",
              "      <td>710</td>\n",
              "      <td>710</td>\n",
              "      <td>11</td>\n",
              "      <td>10</td>\n",
              "      <td>4</td>\n",
              "      <td>9.0</td>\n",
              "      <td>4.0</td>\n",
              "      <td>2.0</td>\n",
              "      <td>2.0</td>\n",
              "      <td>2.0</td>\n",
              "      <td>0</td>\n",
              "      <td>0</td>\n",
              "      <td>0.0</td>\n",
              "      <td>16</td>\n",
              "      <td>0</td>\n",
              "      <td>16</td>\n",
              "      <td>46</td>\n",
              "      <td>77</td>\n",
              "      <td>0.0</td>\n",
              "      <td>0</td>\n",
              "      <td>2</td>\n",
              "      <td>3</td>\n",
              "      <td>2196.00</td>\n",
              "      <td>46.0</td>\n",
              "      <td>487.60</td>\n",
              "      <td>0</td>\n",
              "      <td>1747726</td>\n",
              "    </tr>\n",
              "    <tr>\n",
              "      <th>1742315</th>\n",
              "      <td>47</td>\n",
              "      <td>2547.00000</td>\n",
              "      <td>2</td>\n",
              "      <td>1</td>\n",
              "      <td>1</td>\n",
              "      <td>1</td>\n",
              "      <td>28.63</td>\n",
              "      <td>0</td>\n",
              "      <td>1.272034</td>\n",
              "      <td>25.059081</td>\n",
              "      <td>1000</td>\n",
              "      <td>5</td>\n",
              "      <td>8</td>\n",
              "      <td>0</td>\n",
              "      <td>834</td>\n",
              "      <td>834</td>\n",
              "      <td>11</td>\n",
              "      <td>10</td>\n",
              "      <td>4</td>\n",
              "      <td>9.0</td>\n",
              "      <td>4.0</td>\n",
              "      <td>9.0</td>\n",
              "      <td>4.0</td>\n",
              "      <td>9.0</td>\n",
              "      <td>1</td>\n",
              "      <td>1</td>\n",
              "      <td>0.0</td>\n",
              "      <td>26</td>\n",
              "      <td>0</td>\n",
              "      <td>26</td>\n",
              "      <td>56</td>\n",
              "      <td>0</td>\n",
              "      <td>0.0</td>\n",
              "      <td>0</td>\n",
              "      <td>1</td>\n",
              "      <td>0</td>\n",
              "      <td>2705.66</td>\n",
              "      <td>40.0</td>\n",
              "      <td>763.78</td>\n",
              "      <td>1</td>\n",
              "      <td>1742315</td>\n",
              "    </tr>\n",
              "    <tr>\n",
              "      <th>2137934</th>\n",
              "      <td>31</td>\n",
              "      <td>796.00000</td>\n",
              "      <td>1</td>\n",
              "      <td>1</td>\n",
              "      <td>3</td>\n",
              "      <td>1</td>\n",
              "      <td>11.60</td>\n",
              "      <td>0</td>\n",
              "      <td>1.272034</td>\n",
              "      <td>25.059081</td>\n",
              "      <td>500</td>\n",
              "      <td>5</td>\n",
              "      <td>8</td>\n",
              "      <td>0</td>\n",
              "      <td>443</td>\n",
              "      <td>443</td>\n",
              "      <td>11</td>\n",
              "      <td>10</td>\n",
              "      <td>4</td>\n",
              "      <td>9.0</td>\n",
              "      <td>10.0</td>\n",
              "      <td>10.0</td>\n",
              "      <td>4.0</td>\n",
              "      <td>7.0</td>\n",
              "      <td>0</td>\n",
              "      <td>0</td>\n",
              "      <td>1.0</td>\n",
              "      <td>1</td>\n",
              "      <td>0</td>\n",
              "      <td>31</td>\n",
              "      <td>61</td>\n",
              "      <td>62</td>\n",
              "      <td>0.0</td>\n",
              "      <td>0</td>\n",
              "      <td>0</td>\n",
              "      <td>3</td>\n",
              "      <td>958.85</td>\n",
              "      <td>20.0</td>\n",
              "      <td>250.60</td>\n",
              "      <td>0</td>\n",
              "      <td>2137934</td>\n",
              "    </tr>\n",
              "    <tr>\n",
              "      <th>1962156</th>\n",
              "      <td>30</td>\n",
              "      <td>1435.00000</td>\n",
              "      <td>2</td>\n",
              "      <td>1</td>\n",
              "      <td>3</td>\n",
              "      <td>1</td>\n",
              "      <td>18.63</td>\n",
              "      <td>1</td>\n",
              "      <td>1.000000</td>\n",
              "      <td>12.030000</td>\n",
              "      <td>700</td>\n",
              "      <td>5</td>\n",
              "      <td>7</td>\n",
              "      <td>0</td>\n",
              "      <td>911</td>\n",
              "      <td>911</td>\n",
              "      <td>10</td>\n",
              "      <td>4</td>\n",
              "      <td>4</td>\n",
              "      <td>10.0</td>\n",
              "      <td>10.0</td>\n",
              "      <td>10.0</td>\n",
              "      <td>4.0</td>\n",
              "      <td>1.0</td>\n",
              "      <td>0</td>\n",
              "      <td>0</td>\n",
              "      <td>31.0</td>\n",
              "      <td>0</td>\n",
              "      <td>0</td>\n",
              "      <td>1</td>\n",
              "      <td>31</td>\n",
              "      <td>62</td>\n",
              "      <td>0.0</td>\n",
              "      <td>2</td>\n",
              "      <td>2</td>\n",
              "      <td>2</td>\n",
              "      <td>1137.04</td>\n",
              "      <td>45.0</td>\n",
              "      <td>270.82</td>\n",
              "      <td>0</td>\n",
              "      <td>1962156</td>\n",
              "    </tr>\n",
              "  </tbody>\n",
              "</table>\n",
              "</div>"
            ],
            "text/plain": [
              "         Edad       Renta  ...  Flag_Cliente  Cliente\n",
              "Cliente                    ...                       \n",
              "676110     78   893.00000  ...             0   676110\n",
              "1747726    29  2534.16587  ...             0  1747726\n",
              "1742315    47  2547.00000  ...             1  1742315\n",
              "2137934    31   796.00000  ...             0  2137934\n",
              "1962156    30  1435.00000  ...             0  1962156\n",
              "\n",
              "[5 rows x 41 columns]"
            ]
          },
          "metadata": {
            "tags": []
          },
          "execution_count": 42
        }
      ]
    },
    {
      "cell_type": "code",
      "metadata": {
        "id": "pbkRES1S0uqE",
        "colab_type": "code",
        "outputId": "693a7c0a-b8cf-4148-e9b9-5f770e0d375a",
        "colab": {
          "base_uri": "https://localhost:8080/",
          "height": 34
        }
      },
      "source": [
        "len(Data_completo)==len(Train_final)+ len(Test_final)"
      ],
      "execution_count": 0,
      "outputs": [
        {
          "output_type": "execute_result",
          "data": {
            "text/plain": [
              "True"
            ]
          },
          "metadata": {
            "tags": []
          },
          "execution_count": 43
        }
      ]
    },
    {
      "cell_type": "code",
      "metadata": {
        "id": "S81yNvs6BsUE",
        "colab_type": "code",
        "colab": {}
      },
      "source": [
        "Train_final=Train_final.reset_index(drop=True)\n",
        "Test_final=Test_final.reset_index(drop=True)\n",
        "Test_final.index=list(range(3544,3544+len(Test_final)))\n",
        "\n"
      ],
      "execution_count": 0,
      "outputs": []
    },
    {
      "cell_type": "code",
      "metadata": {
        "id": "92x4J3NvBsbW",
        "colab_type": "code",
        "colab": {}
      },
      "source": [
        "####"
      ],
      "execution_count": 0,
      "outputs": []
    },
    {
      "cell_type": "code",
      "metadata": {
        "id": "t1kvywxr9Pk6",
        "colab_type": "code",
        "colab": {}
      },
      "source": [
        "#Data_completo.index(x) for x in categorical"
      ],
      "execution_count": 0,
      "outputs": []
    },
    {
      "cell_type": "code",
      "metadata": {
        "id": "GUb98Tr2XPh-",
        "colab_type": "code",
        "colab": {}
      },
      "source": [
        "x_id = Train_final['Cliente']\n",
        "Train_final_2 = Train_final.drop('Cliente',axis=1)"
      ],
      "execution_count": 0,
      "outputs": []
    },
    {
      "cell_type": "code",
      "metadata": {
        "id": "BN4-lX53YxxD",
        "colab_type": "code",
        "colab": {}
      },
      "source": [
        "X, y = Train_final_2.drop('Flag_Cliente', axis=1), Train_final_2['Flag_Cliente']"
      ],
      "execution_count": 0,
      "outputs": []
    },
    {
      "cell_type": "code",
      "metadata": {
        "id": "vScief_CAMvS",
        "colab_type": "code",
        "colab": {}
      },
      "source": [
        "from sklearn.model_selection import train_test_split\n",
        "# Split the data into training and testing sets\n",
        "train_x, test_x, train_y, test_y = train_test_split(X, y, test_size = 0.20, random_state = 100)"
      ],
      "execution_count": 0,
      "outputs": []
    },
    {
      "cell_type": "code",
      "metadata": {
        "id": "UFucsJX5_x_M",
        "colab_type": "code",
        "colab": {}
      },
      "source": [
        ""
      ],
      "execution_count": 0,
      "outputs": []
    },
    {
      "cell_type": "code",
      "metadata": {
        "id": "juLQB6HN8UY5",
        "colab_type": "code",
        "colab": {}
      },
      "source": [
        "#Train_final['Flag_Cliente']\n",
        "#Train_final\n",
        "categorical=['Sexo', 'EstadoCivil', 'NivelSocioEconomico', 'Departamento',\n",
        "       'RegistraAdicionales', 'LineaCreditoNormal', 'SituacionCuenta',\n",
        "       'PromediodePagos', 'SaldoExtra', 'SaldoNormal', 'SaldoTotal',\n",
        "       'HabitodePago1', 'HabitodePago2', 'HabitodePago3',\n",
        "       'FlagRefinanciadoHistórico', 'FlagRefinanciado', 'DiasMora200901',\n",
        "       'DiasMora200902', 'DiasMora200903', 'DiasMora200904', 'DiasMora200905',\n",
        "       'PagaDespues', 'DispEfectivo', 'CalificacionSBS']\n",
        "features=X.columns"
      ],
      "execution_count": 0,
      "outputs": []
    },
    {
      "cell_type": "code",
      "metadata": {
        "id": "UYIa4oTRAmgq",
        "colab_type": "code",
        "outputId": "8f0f1345-d42a-4849-b4fa-d03433e8b6e4",
        "colab": {
          "base_uri": "https://localhost:8080/",
          "height": 425
        }
      },
      "source": [
        "####################################################\n",
        "######################################################\n",
        "####################################################\n",
        "test=Test_final.drop('Flag_Cliente', axis=1)\n",
        "train=Train_final\n",
        "categorical\n",
        "\n",
        "for l in categorical:\n",
        "    \n",
        "    print(l)\n",
        "    \n",
        "    \n",
        "    me = preprocessing.LabelEncoder()\n",
        "    \n",
        "    train.loc[train[l].notnull(),l]=train.loc[train[l].notnull(),l].astype(str)\n",
        "    \n",
        "    test.loc[test[l].notnull(),l]=test.loc[test[l].notnull(),l].astype(str)\n",
        "\n",
        "    \n",
        "    me.fit(list(train[l].dropna())+list(test[l].dropna()))\n",
        "    \n",
        "    \n",
        "\n",
        "    train.loc[~train[l].isnull(),l]=me.transform(train.loc[~train[l].isnull(),l])\n",
        "\n",
        "    test.loc[~test[l].isnull(),l]=me.transform(test.loc[~test[l].isnull(),l])"
      ],
      "execution_count": 0,
      "outputs": [
        {
          "output_type": "stream",
          "text": [
            "Sexo\n",
            "EstadoCivil\n",
            "NivelSocioEconomico\n",
            "Departamento\n",
            "RegistraAdicionales\n",
            "LineaCreditoNormal\n",
            "SituacionCuenta\n",
            "PromediodePagos\n",
            "SaldoExtra\n",
            "SaldoNormal\n",
            "SaldoTotal\n",
            "HabitodePago1\n",
            "HabitodePago2\n",
            "HabitodePago3\n",
            "FlagRefinanciadoHistórico\n",
            "FlagRefinanciado\n",
            "DiasMora200901\n",
            "DiasMora200902\n",
            "DiasMora200903\n",
            "DiasMora200904\n",
            "DiasMora200905\n",
            "PagaDespues\n",
            "DispEfectivo\n",
            "CalificacionSBS\n"
          ],
          "name": "stdout"
        }
      ]
    },
    {
      "cell_type": "code",
      "metadata": {
        "id": "V2Q-sW1oHTth",
        "colab_type": "code",
        "colab": {}
      },
      "source": [
        "no_usar=[\"Flag_Cliente\"]+[\"Cliente\"]\t\t\n",
        "\n",
        "\n",
        "features=[x for x in train.columns if x not in no_usar]\n",
        "\n",
        "cat_ind=[features.index(x) for x in categorical]"
      ],
      "execution_count": 0,
      "outputs": []
    },
    {
      "cell_type": "code",
      "metadata": {
        "id": "j20kVLDyI4VJ",
        "colab_type": "code",
        "outputId": "b0914df7-bc2f-4ee0-9496-3f2ebe1682fa",
        "colab": {
          "base_uri": "https://localhost:8080/",
          "height": 425
        }
      },
      "source": [
        "cat_ind"
      ],
      "execution_count": 0,
      "outputs": [
        {
          "output_type": "execute_result",
          "data": {
            "text/plain": [
              "[2,\n",
              " 3,\n",
              " 4,\n",
              " 5,\n",
              " 7,\n",
              " 10,\n",
              " 11,\n",
              " 12,\n",
              " 13,\n",
              " 14,\n",
              " 15,\n",
              " 16,\n",
              " 17,\n",
              " 18,\n",
              " 24,\n",
              " 25,\n",
              " 27,\n",
              " 28,\n",
              " 29,\n",
              " 30,\n",
              " 31,\n",
              " 33,\n",
              " 34,\n",
              " 35]"
            ]
          },
          "metadata": {
            "tags": []
          },
          "execution_count": 53
        }
      ]
    },
    {
      "cell_type": "code",
      "metadata": {
        "id": "h_ZvYPIOHfx9",
        "colab_type": "code",
        "colab": {}
      },
      "source": [
        "#train=train.reset_index(drop=True)\n",
        "#a=[]\n",
        "#for i in range(len(test)):\n",
        "#  i=i+1\n",
        "#  a.append(i+3549)\n",
        "#a  \n",
        "#test.index=a\n",
        "#test"
      ],
      "execution_count": 0,
      "outputs": []
    },
    {
      "cell_type": "code",
      "metadata": {
        "id": "s7lrFBzQM8Lz",
        "colab_type": "code",
        "outputId": "3668bfe5-6c6f-49b8-e741-d0e0e1585e6d",
        "colab": {
          "base_uri": "https://localhost:8080/",
          "height": 1000
        }
      },
      "source": [
        "\n",
        "kf_previo=StratifiedKFold(n_splits=5,random_state=256,shuffle=True)\n",
        "\n",
        "i=1\n",
        "\n",
        "r=[]\n",
        "\n",
        "importancias=[]\n",
        "\n",
        "for train_index,test_index in kf_previo.split(train,train['Flag_Cliente']):\n",
        "\n",
        "    lgb_train = lgb.Dataset(train.loc[train_index,features].values,train.loc[train_index,'Flag_Cliente'].values.ravel())\n",
        "    lgb_eval = lgb.Dataset(train.loc[test_index,features].values,train.loc[test_index,'Flag_Cliente'].values.ravel(), reference=lgb_train)\n",
        "\n",
        "    params = {\n",
        "         'task': 'train',\n",
        "        'boosting_type': 'gbdt',\n",
        "        'objective': 'binary',\n",
        "        'metric': { 'auc'},\n",
        "        \"max_depth\":4,\n",
        "        \"num_leaves\":10,\n",
        "        'learning_rate': 0.1,\n",
        "    \"min_child_samples\": 100,\n",
        "        'feature_fraction': 0.5,\n",
        "     \"bagging_freq\":1,\n",
        "        'bagging_fraction': 0.9,\n",
        "        \"lambda_l1\":1,\n",
        "        \"lambda_l2\":1,\n",
        "       # \"scale_pos_weight\":30,\n",
        "\n",
        "        'verbose': 1     \n",
        "    }\n",
        "\n",
        "\n",
        "    lgbm3 = lgb.train(\n",
        "        params,lgb_train,\n",
        "        num_boost_round=13100,\n",
        "        valid_sets=lgb_eval,\n",
        "        early_stopping_rounds=50,\n",
        "        verbose_eval=25,\n",
        "        categorical_feature=cat_ind)\n",
        "    \n",
        "    test[\"TARGET_FOLD\"+str(i)]=lgbm3.predict(test[features].values, num_iteration=lgbm3.best_iteration)\n",
        "    \n",
        "    importancia=lgbm3.feature_importance(importance_type=\"gain\")\n",
        "    \n",
        "    importancias.append(importancia)\n",
        "    \n",
        "    print (\"Fold_\"+str(i))\n",
        "    a= (roc_auc_score(train.loc[test_index,'Flag_Cliente'],lgbm3.predict(train.loc[test_index,features].values, num_iteration=lgbm3.best_iteration)))\n",
        "    \n",
        "    #train.loc[test_index,\"probabilidad\"]=lgbm3.predict(train.loc[test_index,features].values, num_iteration=lgbm3.best_iteration)\n",
        "    \n",
        "    \n",
        "    r.append(a)\n",
        "    print (a)\n",
        "    print (\"\")\n",
        "    \n",
        "    i=i+1\n",
        "\n",
        "print (\"mean: \"+str(np.mean(np.array(r))))\n",
        "print (\"std: \"+str(np.std(np.array(r))))"
      ],
      "execution_count": 0,
      "outputs": [
        {
          "output_type": "stream",
          "text": [
            "/usr/local/lib/python3.6/dist-packages/lightgbm/basic.py:1209: UserWarning: categorical_feature in Dataset is overridden.\n",
            "New categorical_feature is [2, 3, 4, 5, 7, 10, 11, 12, 13, 14, 15, 16, 17, 18, 24, 25, 27, 28, 29, 30, 31, 33, 34, 35]\n",
            "  'New categorical_feature is {}'.format(sorted(list(categorical_feature))))\n",
            "/usr/local/lib/python3.6/dist-packages/lightgbm/basic.py:762: UserWarning: categorical_feature in param dict is overridden.\n",
            "  warnings.warn('categorical_feature in param dict is overridden.')\n"
          ],
          "name": "stderr"
        },
        {
          "output_type": "stream",
          "text": [
            "Training until validation scores don't improve for 50 rounds.\n",
            "[25]\tvalid_0's auc: 0.95537\n",
            "[50]\tvalid_0's auc: 0.965316\n",
            "[75]\tvalid_0's auc: 0.969609\n",
            "[100]\tvalid_0's auc: 0.971855\n",
            "[125]\tvalid_0's auc: 0.97249\n",
            "[150]\tvalid_0's auc: 0.973228\n",
            "[175]\tvalid_0's auc: 0.972601\n",
            "[200]\tvalid_0's auc: 0.972323\n",
            "Early stopping, best iteration is:\n",
            "[156]\tvalid_0's auc: 0.973418\n",
            "Fold_1\n",
            "0.9734179726244793\n",
            "\n",
            "Training until validation scores don't improve for 50 rounds.\n",
            "[25]\tvalid_0's auc: 0.950498\n",
            "[50]\tvalid_0's auc: 0.955914\n",
            "[75]\tvalid_0's auc: 0.957167\n"
          ],
          "name": "stdout"
        },
        {
          "output_type": "stream",
          "text": [
            "/usr/local/lib/python3.6/dist-packages/lightgbm/basic.py:1209: UserWarning: categorical_feature in Dataset is overridden.\n",
            "New categorical_feature is [2, 3, 4, 5, 7, 10, 11, 12, 13, 14, 15, 16, 17, 18, 24, 25, 27, 28, 29, 30, 31, 33, 34, 35]\n",
            "  'New categorical_feature is {}'.format(sorted(list(categorical_feature))))\n",
            "/usr/local/lib/python3.6/dist-packages/lightgbm/basic.py:762: UserWarning: categorical_feature in param dict is overridden.\n",
            "  warnings.warn('categorical_feature in param dict is overridden.')\n"
          ],
          "name": "stderr"
        },
        {
          "output_type": "stream",
          "text": [
            "[100]\tvalid_0's auc: 0.959111\n",
            "[125]\tvalid_0's auc: 0.959659\n",
            "[150]\tvalid_0's auc: 0.96023\n",
            "[175]\tvalid_0's auc: 0.960659\n",
            "[200]\tvalid_0's auc: 0.961032\n",
            "[225]\tvalid_0's auc: 0.960865\n",
            "[250]\tvalid_0's auc: 0.960659\n",
            "Early stopping, best iteration is:\n",
            "[200]\tvalid_0's auc: 0.961032\n",
            "Fold_2\n",
            "0.961031541360841\n",
            "\n",
            "Training until validation scores don't improve for 50 rounds.\n",
            "[25]\tvalid_0's auc: 0.947213\n",
            "[50]\tvalid_0's auc: 0.956925\n",
            "[75]\tvalid_0's auc: 0.960771\n",
            "[100]\tvalid_0's auc: 0.963213\n",
            "[125]\tvalid_0's auc: 0.964218\n"
          ],
          "name": "stdout"
        },
        {
          "output_type": "stream",
          "text": [
            "/usr/local/lib/python3.6/dist-packages/lightgbm/basic.py:1209: UserWarning: categorical_feature in Dataset is overridden.\n",
            "New categorical_feature is [2, 3, 4, 5, 7, 10, 11, 12, 13, 14, 15, 16, 17, 18, 24, 25, 27, 28, 29, 30, 31, 33, 34, 35]\n",
            "  'New categorical_feature is {}'.format(sorted(list(categorical_feature))))\n",
            "/usr/local/lib/python3.6/dist-packages/lightgbm/basic.py:762: UserWarning: categorical_feature in param dict is overridden.\n",
            "  warnings.warn('categorical_feature in param dict is overridden.')\n"
          ],
          "name": "stderr"
        },
        {
          "output_type": "stream",
          "text": [
            "[150]\tvalid_0's auc: 0.964562\n",
            "[175]\tvalid_0's auc: 0.964833\n",
            "[200]\tvalid_0's auc: 0.965296\n",
            "[225]\tvalid_0's auc: 0.965551\n",
            "[250]\tvalid_0's auc: 0.965591\n",
            "[275]\tvalid_0's auc: 0.965\n",
            "Early stopping, best iteration is:\n",
            "[228]\tvalid_0's auc: 0.965711\n",
            "Fold_3\n",
            "0.965710683392384\n",
            "\n",
            "Training until validation scores don't improve for 50 rounds.\n",
            "[25]\tvalid_0's auc: 0.962718\n",
            "[50]\tvalid_0's auc: 0.969764\n",
            "[75]\tvalid_0's auc: 0.973148\n",
            "[100]\tvalid_0's auc: 0.975055\n",
            "[125]\tvalid_0's auc: 0.975893\n",
            "[150]\tvalid_0's auc: 0.977018\n"
          ],
          "name": "stdout"
        },
        {
          "output_type": "stream",
          "text": [
            "/usr/local/lib/python3.6/dist-packages/lightgbm/basic.py:1209: UserWarning: categorical_feature in Dataset is overridden.\n",
            "New categorical_feature is [2, 3, 4, 5, 7, 10, 11, 12, 13, 14, 15, 16, 17, 18, 24, 25, 27, 28, 29, 30, 31, 33, 34, 35]\n",
            "  'New categorical_feature is {}'.format(sorted(list(categorical_feature))))\n",
            "/usr/local/lib/python3.6/dist-packages/lightgbm/basic.py:762: UserWarning: categorical_feature in param dict is overridden.\n",
            "  warnings.warn('categorical_feature in param dict is overridden.')\n"
          ],
          "name": "stderr"
        },
        {
          "output_type": "stream",
          "text": [
            "[175]\tvalid_0's auc: 0.976954\n",
            "[200]\tvalid_0's auc: 0.977042\n",
            "Early stopping, best iteration is:\n",
            "[156]\tvalid_0's auc: 0.97713\n",
            "Fold_4\n",
            "0.977129815825593\n",
            "\n",
            "Training until validation scores don't improve for 50 rounds.\n",
            "[25]\tvalid_0's auc: 0.970032\n",
            "[50]\tvalid_0's auc: 0.977361\n",
            "[75]\tvalid_0's auc: 0.980282\n"
          ],
          "name": "stdout"
        },
        {
          "output_type": "stream",
          "text": [
            "/usr/local/lib/python3.6/dist-packages/lightgbm/basic.py:1209: UserWarning: categorical_feature in Dataset is overridden.\n",
            "New categorical_feature is [2, 3, 4, 5, 7, 10, 11, 12, 13, 14, 15, 16, 17, 18, 24, 25, 27, 28, 29, 30, 31, 33, 34, 35]\n",
            "  'New categorical_feature is {}'.format(sorted(list(categorical_feature))))\n",
            "/usr/local/lib/python3.6/dist-packages/lightgbm/basic.py:762: UserWarning: categorical_feature in param dict is overridden.\n",
            "  warnings.warn('categorical_feature in param dict is overridden.')\n"
          ],
          "name": "stderr"
        },
        {
          "output_type": "stream",
          "text": [
            "[100]\tvalid_0's auc: 0.981423\n",
            "[125]\tvalid_0's auc: 0.981694\n",
            "[150]\tvalid_0's auc: 0.981998\n",
            "[175]\tvalid_0's auc: 0.98187\n",
            "[200]\tvalid_0's auc: 0.981958\n",
            "Early stopping, best iteration is:\n",
            "[153]\tvalid_0's auc: 0.982261\n",
            "Fold_5\n",
            "0.9822608445848895\n",
            "\n",
            "mean: 0.9719101715576374\n",
            "std: 0.007660715775017667\n"
          ],
          "name": "stdout"
        }
      ]
    },
    {
      "cell_type": "code",
      "metadata": {
        "id": "EuIfUnPJKD5_",
        "colab_type": "code",
        "colab": {}
      },
      "source": [
        "w=[x for x in test.columns if 'FOLD' in x]\n",
        "\n",
        "test['Flag_Cliente']=test[w].mean(axis=1)\n"
      ],
      "execution_count": 0,
      "outputs": []
    },
    {
      "cell_type": "code",
      "metadata": {
        "id": "SEPMRKgGH2Qy",
        "colab_type": "code",
        "outputId": "c062c932-662a-41f7-f72a-9947333da532",
        "colab": {
          "base_uri": "https://localhost:8080/",
          "height": 439
        }
      },
      "source": [
        "test"
      ],
      "execution_count": 0,
      "outputs": [
        {
          "output_type": "execute_result",
          "data": {
            "text/html": [
              "<div>\n",
              "<style scoped>\n",
              "    .dataframe tbody tr th:only-of-type {\n",
              "        vertical-align: middle;\n",
              "    }\n",
              "\n",
              "    .dataframe tbody tr th {\n",
              "        vertical-align: top;\n",
              "    }\n",
              "\n",
              "    .dataframe thead th {\n",
              "        text-align: right;\n",
              "    }\n",
              "</style>\n",
              "<table border=\"1\" class=\"dataframe\">\n",
              "  <thead>\n",
              "    <tr style=\"text-align: right;\">\n",
              "      <th></th>\n",
              "      <th>Edad</th>\n",
              "      <th>Renta</th>\n",
              "      <th>Sexo</th>\n",
              "      <th>EstadoCivil</th>\n",
              "      <th>NivelSocioEconomico</th>\n",
              "      <th>Departamento</th>\n",
              "      <th>AntiguedadCuenta_Meses</th>\n",
              "      <th>RegistraAdicionales</th>\n",
              "      <th>NumeroAdicionales</th>\n",
              "      <th>AntiguedadAdicionales_Meses</th>\n",
              "      <th>LineaCreditoNormal</th>\n",
              "      <th>SituacionCuenta</th>\n",
              "      <th>PromediodePagos</th>\n",
              "      <th>SaldoExtra</th>\n",
              "      <th>SaldoNormal</th>\n",
              "      <th>SaldoTotal</th>\n",
              "      <th>HabitodePago1</th>\n",
              "      <th>HabitodePago2</th>\n",
              "      <th>HabitodePago3</th>\n",
              "      <th>HabitodePago4</th>\n",
              "      <th>HabitodePago5</th>\n",
              "      <th>HabitodePago6</th>\n",
              "      <th>HabitodePago7</th>\n",
              "      <th>HabitodePago8</th>\n",
              "      <th>FlagRefinanciadoHistórico</th>\n",
              "      <th>FlagRefinanciado</th>\n",
              "      <th>DiasMora200812</th>\n",
              "      <th>DiasMora200901</th>\n",
              "      <th>DiasMora200902</th>\n",
              "      <th>DiasMora200903</th>\n",
              "      <th>DiasMora200904</th>\n",
              "      <th>DiasMora200905</th>\n",
              "      <th>CódigoInstitucion</th>\n",
              "      <th>PagaDespues</th>\n",
              "      <th>DispEfectivo</th>\n",
              "      <th>CalificacionSBS</th>\n",
              "      <th>CompraAnual_200806_200905</th>\n",
              "      <th>NroTransaccionesAnual_200806_200905</th>\n",
              "      <th>CompraMensualMaxima_200806_200905</th>\n",
              "      <th>Cliente</th>\n",
              "      <th>TARGET_FOLD1</th>\n",
              "      <th>TARGET_FOLD2</th>\n",
              "      <th>TARGET_FOLD3</th>\n",
              "      <th>TARGET_FOLD4</th>\n",
              "      <th>TARGET_FOLD5</th>\n",
              "      <th>Flag_Cliente</th>\n",
              "    </tr>\n",
              "  </thead>\n",
              "  <tbody>\n",
              "    <tr>\n",
              "      <th>3544</th>\n",
              "      <td>78</td>\n",
              "      <td>893.00000</td>\n",
              "      <td>1</td>\n",
              "      <td>0</td>\n",
              "      <td>1</td>\n",
              "      <td>3</td>\n",
              "      <td>93.30</td>\n",
              "      <td>1</td>\n",
              "      <td>1.000000</td>\n",
              "      <td>39.230000</td>\n",
              "      <td>215</td>\n",
              "      <td>1</td>\n",
              "      <td>8</td>\n",
              "      <td>0</td>\n",
              "      <td>2266</td>\n",
              "      <td>2570</td>\n",
              "      <td>2</td>\n",
              "      <td>7</td>\n",
              "      <td>9</td>\n",
              "      <td>4.0</td>\n",
              "      <td>2.0</td>\n",
              "      <td>1.0</td>\n",
              "      <td>2.0</td>\n",
              "      <td>2.00000</td>\n",
              "      <td>0</td>\n",
              "      <td>0</td>\n",
              "      <td>0.000000</td>\n",
              "      <td>4</td>\n",
              "      <td>12</td>\n",
              "      <td>4</td>\n",
              "      <td>12</td>\n",
              "      <td>20</td>\n",
              "      <td>0.0</td>\n",
              "      <td>1</td>\n",
              "      <td>6</td>\n",
              "      <td>2</td>\n",
              "      <td>1897.45</td>\n",
              "      <td>47.0</td>\n",
              "      <td>502.13</td>\n",
              "      <td>676110</td>\n",
              "      <td>0.186510</td>\n",
              "      <td>0.083303</td>\n",
              "      <td>0.064308</td>\n",
              "      <td>0.057986</td>\n",
              "      <td>0.099509</td>\n",
              "      <td>0.098323</td>\n",
              "    </tr>\n",
              "    <tr>\n",
              "      <th>3545</th>\n",
              "      <td>29</td>\n",
              "      <td>2534.16587</td>\n",
              "      <td>1</td>\n",
              "      <td>0</td>\n",
              "      <td>2</td>\n",
              "      <td>0</td>\n",
              "      <td>28.40</td>\n",
              "      <td>0</td>\n",
              "      <td>1.272034</td>\n",
              "      <td>25.059081</td>\n",
              "      <td>195</td>\n",
              "      <td>1</td>\n",
              "      <td>9</td>\n",
              "      <td>0</td>\n",
              "      <td>2221</td>\n",
              "      <td>2514</td>\n",
              "      <td>3</td>\n",
              "      <td>2</td>\n",
              "      <td>7</td>\n",
              "      <td>9.0</td>\n",
              "      <td>4.0</td>\n",
              "      <td>2.0</td>\n",
              "      <td>2.0</td>\n",
              "      <td>2.00000</td>\n",
              "      <td>0</td>\n",
              "      <td>0</td>\n",
              "      <td>0.000000</td>\n",
              "      <td>8</td>\n",
              "      <td>0</td>\n",
              "      <td>8</td>\n",
              "      <td>13</td>\n",
              "      <td>21</td>\n",
              "      <td>0.0</td>\n",
              "      <td>0</td>\n",
              "      <td>5</td>\n",
              "      <td>3</td>\n",
              "      <td>2196.00</td>\n",
              "      <td>46.0</td>\n",
              "      <td>487.60</td>\n",
              "      <td>1747726</td>\n",
              "      <td>0.008127</td>\n",
              "      <td>0.016102</td>\n",
              "      <td>0.006644</td>\n",
              "      <td>0.010417</td>\n",
              "      <td>0.008783</td>\n",
              "      <td>0.010015</td>\n",
              "    </tr>\n",
              "    <tr>\n",
              "      <th>3546</th>\n",
              "      <td>47</td>\n",
              "      <td>2547.00000</td>\n",
              "      <td>1</td>\n",
              "      <td>0</td>\n",
              "      <td>0</td>\n",
              "      <td>0</td>\n",
              "      <td>28.63</td>\n",
              "      <td>0</td>\n",
              "      <td>1.272034</td>\n",
              "      <td>25.059081</td>\n",
              "      <td>0</td>\n",
              "      <td>1</td>\n",
              "      <td>11</td>\n",
              "      <td>0</td>\n",
              "      <td>2387</td>\n",
              "      <td>2714</td>\n",
              "      <td>3</td>\n",
              "      <td>2</td>\n",
              "      <td>7</td>\n",
              "      <td>9.0</td>\n",
              "      <td>4.0</td>\n",
              "      <td>9.0</td>\n",
              "      <td>4.0</td>\n",
              "      <td>9.00000</td>\n",
              "      <td>1</td>\n",
              "      <td>1</td>\n",
              "      <td>0.000000</td>\n",
              "      <td>10</td>\n",
              "      <td>0</td>\n",
              "      <td>10</td>\n",
              "      <td>16</td>\n",
              "      <td>0</td>\n",
              "      <td>0.0</td>\n",
              "      <td>0</td>\n",
              "      <td>1</td>\n",
              "      <td>0</td>\n",
              "      <td>2705.66</td>\n",
              "      <td>40.0</td>\n",
              "      <td>763.78</td>\n",
              "      <td>1742315</td>\n",
              "      <td>0.428819</td>\n",
              "      <td>0.482527</td>\n",
              "      <td>0.682866</td>\n",
              "      <td>0.757877</td>\n",
              "      <td>0.498018</td>\n",
              "      <td>0.570021</td>\n",
              "    </tr>\n",
              "    <tr>\n",
              "      <th>3547</th>\n",
              "      <td>31</td>\n",
              "      <td>796.00000</td>\n",
              "      <td>0</td>\n",
              "      <td>0</td>\n",
              "      <td>2</td>\n",
              "      <td>0</td>\n",
              "      <td>11.60</td>\n",
              "      <td>0</td>\n",
              "      <td>1.272034</td>\n",
              "      <td>25.059081</td>\n",
              "      <td>195</td>\n",
              "      <td>1</td>\n",
              "      <td>11</td>\n",
              "      <td>0</td>\n",
              "      <td>1749</td>\n",
              "      <td>1929</td>\n",
              "      <td>3</td>\n",
              "      <td>2</td>\n",
              "      <td>7</td>\n",
              "      <td>9.0</td>\n",
              "      <td>10.0</td>\n",
              "      <td>10.0</td>\n",
              "      <td>4.0</td>\n",
              "      <td>7.00000</td>\n",
              "      <td>0</td>\n",
              "      <td>0</td>\n",
              "      <td>1.000000</td>\n",
              "      <td>1</td>\n",
              "      <td>0</td>\n",
              "      <td>11</td>\n",
              "      <td>17</td>\n",
              "      <td>18</td>\n",
              "      <td>0.0</td>\n",
              "      <td>0</td>\n",
              "      <td>0</td>\n",
              "      <td>3</td>\n",
              "      <td>958.85</td>\n",
              "      <td>20.0</td>\n",
              "      <td>250.60</td>\n",
              "      <td>2137934</td>\n",
              "      <td>0.001538</td>\n",
              "      <td>0.002674</td>\n",
              "      <td>0.001473</td>\n",
              "      <td>0.001918</td>\n",
              "      <td>0.002434</td>\n",
              "      <td>0.002007</td>\n",
              "    </tr>\n",
              "    <tr>\n",
              "      <th>3548</th>\n",
              "      <td>30</td>\n",
              "      <td>1435.00000</td>\n",
              "      <td>1</td>\n",
              "      <td>0</td>\n",
              "      <td>2</td>\n",
              "      <td>0</td>\n",
              "      <td>18.63</td>\n",
              "      <td>1</td>\n",
              "      <td>1.000000</td>\n",
              "      <td>12.030000</td>\n",
              "      <td>233</td>\n",
              "      <td>1</td>\n",
              "      <td>10</td>\n",
              "      <td>0</td>\n",
              "      <td>2487</td>\n",
              "      <td>2827</td>\n",
              "      <td>2</td>\n",
              "      <td>7</td>\n",
              "      <td>7</td>\n",
              "      <td>10.0</td>\n",
              "      <td>10.0</td>\n",
              "      <td>10.0</td>\n",
              "      <td>4.0</td>\n",
              "      <td>1.00000</td>\n",
              "      <td>0</td>\n",
              "      <td>0</td>\n",
              "      <td>31.000000</td>\n",
              "      <td>0</td>\n",
              "      <td>0</td>\n",
              "      <td>1</td>\n",
              "      <td>10</td>\n",
              "      <td>18</td>\n",
              "      <td>0.0</td>\n",
              "      <td>2</td>\n",
              "      <td>5</td>\n",
              "      <td>2</td>\n",
              "      <td>1137.04</td>\n",
              "      <td>45.0</td>\n",
              "      <td>270.82</td>\n",
              "      <td>1962156</td>\n",
              "      <td>0.004026</td>\n",
              "      <td>0.002878</td>\n",
              "      <td>0.001218</td>\n",
              "      <td>0.002018</td>\n",
              "      <td>0.003118</td>\n",
              "      <td>0.002651</td>\n",
              "    </tr>\n",
              "    <tr>\n",
              "      <th>...</th>\n",
              "      <td>...</td>\n",
              "      <td>...</td>\n",
              "      <td>...</td>\n",
              "      <td>...</td>\n",
              "      <td>...</td>\n",
              "      <td>...</td>\n",
              "      <td>...</td>\n",
              "      <td>...</td>\n",
              "      <td>...</td>\n",
              "      <td>...</td>\n",
              "      <td>...</td>\n",
              "      <td>...</td>\n",
              "      <td>...</td>\n",
              "      <td>...</td>\n",
              "      <td>...</td>\n",
              "      <td>...</td>\n",
              "      <td>...</td>\n",
              "      <td>...</td>\n",
              "      <td>...</td>\n",
              "      <td>...</td>\n",
              "      <td>...</td>\n",
              "      <td>...</td>\n",
              "      <td>...</td>\n",
              "      <td>...</td>\n",
              "      <td>...</td>\n",
              "      <td>...</td>\n",
              "      <td>...</td>\n",
              "      <td>...</td>\n",
              "      <td>...</td>\n",
              "      <td>...</td>\n",
              "      <td>...</td>\n",
              "      <td>...</td>\n",
              "      <td>...</td>\n",
              "      <td>...</td>\n",
              "      <td>...</td>\n",
              "      <td>...</td>\n",
              "      <td>...</td>\n",
              "      <td>...</td>\n",
              "      <td>...</td>\n",
              "      <td>...</td>\n",
              "      <td>...</td>\n",
              "      <td>...</td>\n",
              "      <td>...</td>\n",
              "      <td>...</td>\n",
              "      <td>...</td>\n",
              "      <td>...</td>\n",
              "    </tr>\n",
              "    <tr>\n",
              "      <th>7089</th>\n",
              "      <td>25</td>\n",
              "      <td>1650.00000</td>\n",
              "      <td>0</td>\n",
              "      <td>0</td>\n",
              "      <td>0</td>\n",
              "      <td>0</td>\n",
              "      <td>19.03</td>\n",
              "      <td>0</td>\n",
              "      <td>1.272034</td>\n",
              "      <td>25.059081</td>\n",
              "      <td>122</td>\n",
              "      <td>1</td>\n",
              "      <td>6</td>\n",
              "      <td>862</td>\n",
              "      <td>1922</td>\n",
              "      <td>159</td>\n",
              "      <td>2</td>\n",
              "      <td>7</td>\n",
              "      <td>1</td>\n",
              "      <td>1.0</td>\n",
              "      <td>1.0</td>\n",
              "      <td>1.0</td>\n",
              "      <td>1.0</td>\n",
              "      <td>1.00000</td>\n",
              "      <td>0</td>\n",
              "      <td>0</td>\n",
              "      <td>0.000000</td>\n",
              "      <td>0</td>\n",
              "      <td>0</td>\n",
              "      <td>0</td>\n",
              "      <td>9</td>\n",
              "      <td>16</td>\n",
              "      <td>0.0</td>\n",
              "      <td>1</td>\n",
              "      <td>1</td>\n",
              "      <td>1</td>\n",
              "      <td>3510.88</td>\n",
              "      <td>15.0</td>\n",
              "      <td>1047.40</td>\n",
              "      <td>1953985</td>\n",
              "      <td>0.178355</td>\n",
              "      <td>0.072897</td>\n",
              "      <td>0.128046</td>\n",
              "      <td>0.080611</td>\n",
              "      <td>0.105870</td>\n",
              "      <td>0.113156</td>\n",
              "    </tr>\n",
              "    <tr>\n",
              "      <th>7090</th>\n",
              "      <td>57</td>\n",
              "      <td>1340.00000</td>\n",
              "      <td>0</td>\n",
              "      <td>0</td>\n",
              "      <td>2</td>\n",
              "      <td>0</td>\n",
              "      <td>86.63</td>\n",
              "      <td>0</td>\n",
              "      <td>1.272034</td>\n",
              "      <td>25.059081</td>\n",
              "      <td>215</td>\n",
              "      <td>1</td>\n",
              "      <td>5</td>\n",
              "      <td>0</td>\n",
              "      <td>1442</td>\n",
              "      <td>1574</td>\n",
              "      <td>7</td>\n",
              "      <td>1</td>\n",
              "      <td>6</td>\n",
              "      <td>1.0</td>\n",
              "      <td>1.0</td>\n",
              "      <td>1.0</td>\n",
              "      <td>1.0</td>\n",
              "      <td>1.00000</td>\n",
              "      <td>0</td>\n",
              "      <td>0</td>\n",
              "      <td>0.000000</td>\n",
              "      <td>0</td>\n",
              "      <td>0</td>\n",
              "      <td>0</td>\n",
              "      <td>0</td>\n",
              "      <td>1</td>\n",
              "      <td>0.0</td>\n",
              "      <td>1</td>\n",
              "      <td>0</td>\n",
              "      <td>1</td>\n",
              "      <td>648.70</td>\n",
              "      <td>2.0</td>\n",
              "      <td>599.00</td>\n",
              "      <td>761739</td>\n",
              "      <td>0.947821</td>\n",
              "      <td>0.966803</td>\n",
              "      <td>0.966558</td>\n",
              "      <td>0.945083</td>\n",
              "      <td>0.960748</td>\n",
              "      <td>0.957403</td>\n",
              "    </tr>\n",
              "    <tr>\n",
              "      <th>7091</th>\n",
              "      <td>29</td>\n",
              "      <td>2534.16587</td>\n",
              "      <td>0</td>\n",
              "      <td>0</td>\n",
              "      <td>0</td>\n",
              "      <td>0</td>\n",
              "      <td>27.53</td>\n",
              "      <td>1</td>\n",
              "      <td>3.000000</td>\n",
              "      <td>27.400000</td>\n",
              "      <td>267</td>\n",
              "      <td>0</td>\n",
              "      <td>6</td>\n",
              "      <td>0</td>\n",
              "      <td>872</td>\n",
              "      <td>934</td>\n",
              "      <td>6</td>\n",
              "      <td>6</td>\n",
              "      <td>1</td>\n",
              "      <td>2.0</td>\n",
              "      <td>1.0</td>\n",
              "      <td>10.0</td>\n",
              "      <td>10.0</td>\n",
              "      <td>4.00000</td>\n",
              "      <td>0</td>\n",
              "      <td>0</td>\n",
              "      <td>0.000000</td>\n",
              "      <td>0</td>\n",
              "      <td>0</td>\n",
              "      <td>1</td>\n",
              "      <td>0</td>\n",
              "      <td>0</td>\n",
              "      <td>0.0</td>\n",
              "      <td>0</td>\n",
              "      <td>6</td>\n",
              "      <td>0</td>\n",
              "      <td>2266.81</td>\n",
              "      <td>33.0</td>\n",
              "      <td>1007.80</td>\n",
              "      <td>1766621</td>\n",
              "      <td>0.974316</td>\n",
              "      <td>0.986282</td>\n",
              "      <td>0.973799</td>\n",
              "      <td>0.969620</td>\n",
              "      <td>0.943580</td>\n",
              "      <td>0.969519</td>\n",
              "    </tr>\n",
              "    <tr>\n",
              "      <th>7092</th>\n",
              "      <td>54</td>\n",
              "      <td>2236.00000</td>\n",
              "      <td>0</td>\n",
              "      <td>0</td>\n",
              "      <td>3</td>\n",
              "      <td>0</td>\n",
              "      <td>44.17</td>\n",
              "      <td>0</td>\n",
              "      <td>1.272034</td>\n",
              "      <td>25.059081</td>\n",
              "      <td>181</td>\n",
              "      <td>0</td>\n",
              "      <td>0</td>\n",
              "      <td>0</td>\n",
              "      <td>1225</td>\n",
              "      <td>1316</td>\n",
              "      <td>1</td>\n",
              "      <td>1</td>\n",
              "      <td>1</td>\n",
              "      <td>1.0</td>\n",
              "      <td>1.0</td>\n",
              "      <td>1.0</td>\n",
              "      <td>1.0</td>\n",
              "      <td>1.00000</td>\n",
              "      <td>0</td>\n",
              "      <td>0</td>\n",
              "      <td>5.634037</td>\n",
              "      <td>0</td>\n",
              "      <td>0</td>\n",
              "      <td>0</td>\n",
              "      <td>0</td>\n",
              "      <td>0</td>\n",
              "      <td>0.0</td>\n",
              "      <td>0</td>\n",
              "      <td>0</td>\n",
              "      <td>0</td>\n",
              "      <td>15365.99</td>\n",
              "      <td>61.0</td>\n",
              "      <td>3999.00</td>\n",
              "      <td>1414637</td>\n",
              "      <td>0.759267</td>\n",
              "      <td>0.643493</td>\n",
              "      <td>0.778389</td>\n",
              "      <td>0.664627</td>\n",
              "      <td>0.692023</td>\n",
              "      <td>0.707560</td>\n",
              "    </tr>\n",
              "    <tr>\n",
              "      <th>7093</th>\n",
              "      <td>25</td>\n",
              "      <td>2534.16587</td>\n",
              "      <td>0</td>\n",
              "      <td>0</td>\n",
              "      <td>1</td>\n",
              "      <td>1</td>\n",
              "      <td>8.10</td>\n",
              "      <td>0</td>\n",
              "      <td>1.272034</td>\n",
              "      <td>25.059081</td>\n",
              "      <td>195</td>\n",
              "      <td>1</td>\n",
              "      <td>12</td>\n",
              "      <td>0</td>\n",
              "      <td>2061</td>\n",
              "      <td>2306</td>\n",
              "      <td>2</td>\n",
              "      <td>4</td>\n",
              "      <td>3</td>\n",
              "      <td>10.0</td>\n",
              "      <td>4.0</td>\n",
              "      <td>9.0</td>\n",
              "      <td>4.0</td>\n",
              "      <td>2.96929</td>\n",
              "      <td>0</td>\n",
              "      <td>0</td>\n",
              "      <td>0.000000</td>\n",
              "      <td>10</td>\n",
              "      <td>15</td>\n",
              "      <td>0</td>\n",
              "      <td>9</td>\n",
              "      <td>16</td>\n",
              "      <td>4.0</td>\n",
              "      <td>0</td>\n",
              "      <td>0</td>\n",
              "      <td>0</td>\n",
              "      <td>1159.90</td>\n",
              "      <td>24.0</td>\n",
              "      <td>409.00</td>\n",
              "      <td>2237177</td>\n",
              "      <td>0.045776</td>\n",
              "      <td>0.018953</td>\n",
              "      <td>0.034196</td>\n",
              "      <td>0.085247</td>\n",
              "      <td>0.044387</td>\n",
              "      <td>0.045712</td>\n",
              "    </tr>\n",
              "  </tbody>\n",
              "</table>\n",
              "<p>3550 rows × 46 columns</p>\n",
              "</div>"
            ],
            "text/plain": [
              "      Edad       Renta  Sexo  ...  TARGET_FOLD4  TARGET_FOLD5  Flag_Cliente\n",
              "3544    78   893.00000     1  ...      0.057986      0.099509      0.098323\n",
              "3545    29  2534.16587     1  ...      0.010417      0.008783      0.010015\n",
              "3546    47  2547.00000     1  ...      0.757877      0.498018      0.570021\n",
              "3547    31   796.00000     0  ...      0.001918      0.002434      0.002007\n",
              "3548    30  1435.00000     1  ...      0.002018      0.003118      0.002651\n",
              "...    ...         ...   ...  ...           ...           ...           ...\n",
              "7089    25  1650.00000     0  ...      0.080611      0.105870      0.113156\n",
              "7090    57  1340.00000     0  ...      0.945083      0.960748      0.957403\n",
              "7091    29  2534.16587     0  ...      0.969620      0.943580      0.969519\n",
              "7092    54  2236.00000     0  ...      0.664627      0.692023      0.707560\n",
              "7093    25  2534.16587     0  ...      0.085247      0.044387      0.045712\n",
              "\n",
              "[3550 rows x 46 columns]"
            ]
          },
          "metadata": {
            "tags": []
          },
          "execution_count": 57
        }
      ]
    },
    {
      "cell_type": "code",
      "metadata": {
        "id": "h-JYFGE9H2VZ",
        "colab_type": "code",
        "outputId": "7b957fda-f382-45f2-894f-450ad2d462a0",
        "colab": {
          "base_uri": "https://localhost:8080/",
          "height": 221
        }
      },
      "source": [
        "test['Flag_Cliente']"
      ],
      "execution_count": 0,
      "outputs": [
        {
          "output_type": "execute_result",
          "data": {
            "text/plain": [
              "3544    0.098323\n",
              "3545    0.010015\n",
              "3546    0.570021\n",
              "3547    0.002007\n",
              "3548    0.002651\n",
              "          ...   \n",
              "7089    0.113156\n",
              "7090    0.957403\n",
              "7091    0.969519\n",
              "7092    0.707560\n",
              "7093    0.045712\n",
              "Name: Flag_Cliente, Length: 3550, dtype: float64"
            ]
          },
          "metadata": {
            "tags": []
          },
          "execution_count": 58
        }
      ]
    },
    {
      "cell_type": "code",
      "metadata": {
        "id": "46G5F2SEH2ZC",
        "colab_type": "code",
        "outputId": "c349123a-4212-483c-9183-b7ea4c44f788",
        "colab": {
          "base_uri": "https://localhost:8080/",
          "height": 34
        }
      },
      "source": [
        "roc_auc_score(Test_final['Flag_Cliente'],test['Flag_Cliente'])"
      ],
      "execution_count": 0,
      "outputs": [
        {
          "output_type": "execute_result",
          "data": {
            "text/plain": [
              "0.9743989746766981"
            ]
          },
          "metadata": {
            "tags": []
          },
          "execution_count": 59
        }
      ]
    },
    {
      "cell_type": "code",
      "metadata": {
        "id": "Bkh3BECdH2d8",
        "colab_type": "code",
        "colab": {}
      },
      "source": [
        "import statsmodels.api as sm"
      ],
      "execution_count": 0,
      "outputs": []
    },
    {
      "cell_type": "code",
      "metadata": {
        "id": "G4QPprxd3w4L",
        "colab_type": "code",
        "colab": {}
      },
      "source": [
        ""
      ],
      "execution_count": 0,
      "outputs": []
    },
    {
      "cell_type": "code",
      "metadata": {
        "id": "-Mrd8eAvPgpG",
        "colab_type": "code",
        "outputId": "b11b23f6-0c3e-4973-aae6-708a28497c1b",
        "colab": {
          "base_uri": "https://localhost:8080/",
          "height": 1000
        }
      },
      "source": [
        "\n",
        "kf_previo=StratifiedKFold(n_splits=5,random_state=256,shuffle=True)\n",
        "\n",
        "i=1\n",
        "\n",
        "r=[]\n",
        "\n",
        "importancias=[]\n",
        "\n",
        "for train_index,test_index in kf_previo.split(train,train['Flag_Cliente']):\n",
        "\n",
        "\n",
        "    logit_model=sm.Logit(Train_final['Flag_Cliente'],train.loc[:,features])\n",
        "    result=logit_model.fit()\n",
        "    test[\"TARGET_FOLD\"+str(i)]=result.predict(test.loc[:,features])\n",
        "    print (\"Fold_\"+str(i))\n",
        "    a= (roc_auc_score(train.loc[test_index,'Flag_Cliente'],result.predict(train.loc[test_index,features].values)))\n",
        "    \n",
        "    #train.loc[test_index,\"probabilidad\"]=lgbm3.predict(train.loc[test_index,features].values, num_iteration=lgbm3.best_iteration)\n",
        "\n",
        "    r.append(a)\n",
        "    print (a)\n",
        "    print (\"\")\n",
        "    \n",
        "    i=i+1\n",
        "print(result.summary2())\n",
        "print (\"mean: \"+str(np.mean(np.array(r))))\n",
        "print (\"std: \"+str(np.std(np.array(r))))"
      ],
      "execution_count": 0,
      "outputs": [
        {
          "output_type": "stream",
          "text": [
            "Optimization terminated successfully.\n",
            "         Current function value: 0.305901\n",
            "         Iterations 7\n",
            "Fold_1\n",
            "0.9365602063082722\n",
            "\n",
            "Optimization terminated successfully.\n",
            "         Current function value: 0.305901\n",
            "         Iterations 7\n",
            "Fold_2\n",
            "0.9348621305296569\n",
            "\n",
            "Optimization terminated successfully.\n",
            "         Current function value: 0.305901\n",
            "         Iterations 7\n",
            "Fold_3\n",
            "0.9309665166459191\n",
            "\n",
            "Optimization terminated successfully.\n",
            "         Current function value: 0.305901\n",
            "         Iterations 7\n",
            "Fold_4\n",
            "0.9470378882185834\n",
            "\n",
            "Optimization terminated successfully.\n",
            "         Current function value: 0.305901\n",
            "         Iterations 7\n",
            "Fold_5\n",
            "0.9534217498164639\n",
            "\n",
            "                                                        Results: Logit\n",
            "==============================================================================================================================\n",
            "Model:                                    Logit                                Pseudo R-squared:                     0.559    \n",
            "Dependent Variable:                       Flag_Cliente                         AIC:                                  2244.2291\n",
            "Date:                                     2019-11-09 03:19                     BIC:                                  2478.8035\n",
            "No. Observations:                         3544                                 Log-Likelihood:                       -1084.1  \n",
            "Df Model:                                 37                                   LL-Null:                              -2456.5  \n",
            "Df Residuals:                             3506                                 LLR p-value:                          0.0000   \n",
            "Converged:                                1.0000                               Scale:                                1.0000   \n",
            "No. Iterations:                           7.0000                                                                              \n",
            "------------------------------------------------------------------------------------------------------------------------------\n",
            "                                     Coef.         Std.Err.          z     P>|z|          [0.025                 0.975]       \n",
            "------------------------------------------------------------------------------------------------------------------------------\n",
            "Edad                                 0.0358                   nan      nan    nan                    nan                   nan\n",
            "Renta                               -0.0003                0.0000 -19.7638 0.0000                -0.0003               -0.0003\n",
            "Sexo                                 0.2487                   nan      nan    nan                    nan                   nan\n",
            "EstadoCivil                         -0.3174                   nan      nan    nan                    nan                   nan\n",
            "NivelSocioEconomico                 -0.1937                0.0306  -6.3216 0.0000                -0.2538               -0.1337\n",
            "Departamento                        -0.0278                   nan      nan    nan                    nan                   nan\n",
            "AntiguedadCuenta_Meses               0.0121                   nan      nan    nan                    nan                   nan\n",
            "RegistraAdicionales                 -0.0953                0.3946  -0.2415 0.8091                -0.8686                0.6780\n",
            "NumeroAdicionales                    0.2358                0.6999   0.3369 0.7362                -1.1359                1.6075\n",
            "AntiguedadAdicionales_Meses          0.0232                0.0074   3.1413 0.0017                 0.0087                0.0378\n",
            "LineaCreditoNormal                   0.0011                0.0007   1.5353 0.1247                -0.0003                0.0026\n",
            "SituacionCuenta                     -0.8166                0.1631  -5.0068 0.0000                -1.1363               -0.4969\n",
            "PromediodePagos                     -0.0674                0.0264  -2.5561 0.0106                -0.1191               -0.0157\n",
            "SaldoExtra                           0.0001                0.0002   0.3869 0.6989                -0.0004                0.0005\n",
            "SaldoNormal                          0.0000                0.0001   0.3752 0.7075                -0.0002                0.0003\n",
            "SaldoTotal                          -0.0001                0.0001  -1.1135 0.2655                -0.0004                0.0001\n",
            "HabitodePago1                        0.1180                0.0225   5.2475 0.0000                 0.0739                0.1621\n",
            "HabitodePago2                        0.0957                0.0221   4.3346 0.0000                 0.0524                0.1390\n",
            "HabitodePago3                        0.0718                0.0233   3.0765 0.0021                 0.0261                0.1176\n",
            "HabitodePago4                       -0.0828                0.0265  -3.1255 0.0018                -0.1348               -0.0309\n",
            "HabitodePago5                        0.0344                0.0299   1.1507 0.2499                -0.0242                0.0929\n",
            "HabitodePago6                       -0.0249                0.0268  -0.9285 0.3532                -0.0775                0.0277\n",
            "HabitodePago7                       -0.0253                0.0293  -0.8635 0.3879                -0.0829                0.0322\n",
            "HabitodePago8                        0.1008                0.0264   3.8144 0.0001                 0.0490                0.1526\n",
            "FlagRefinanciadoHistórico           -0.6655 1739423919780654.5000  -0.0000 1.0000 -3409208236617571.5000 3409208236617570.5000\n",
            "FlagRefinanciado                    -0.6655 1739423919780654.2500  -0.0000 1.0000 -3409208236617571.0000 3409208236617570.0000\n",
            "DiasMora200812                      -0.0261                0.0068  -3.8170 0.0001                -0.0395               -0.0127\n",
            "DiasMora200901                      -0.0097                0.0150  -0.6516 0.5147                -0.0390                0.0196\n",
            "DiasMora200902                      -0.0365                0.0173  -2.1089 0.0350                -0.0704               -0.0026\n",
            "DiasMora200903                      -0.1071                0.0130  -8.2285 0.0000                -0.1326               -0.0816\n",
            "DiasMora200904                      -0.0532                0.0134  -3.9843 0.0001                -0.0794               -0.0270\n",
            "DiasMora200905                      -0.0394                0.0142  -2.7813 0.0054                -0.0671               -0.0116\n",
            "CódigoInstitucion                   -0.0397                0.0606  -0.6547 0.5126                -0.1584                0.0791\n",
            "PagaDespues                         -0.1466                0.0842  -1.7412 0.0816                -0.3115                0.0184\n",
            "DispEfectivo                        -0.0628                0.0213  -2.9522 0.0032                -0.1046               -0.0211\n",
            "CalificacionSBS                     -0.7854                0.0361 -21.7278 0.0000                -0.8563               -0.7146\n",
            "CompraAnual_200806_200905           -0.0000                   nan      nan    nan                    nan                   nan\n",
            "NroTransaccionesAnual_200806_200905  0.0011                0.0013   0.8527 0.3938                -0.0014                0.0036\n",
            "CompraMensualMaxima_200806_200905   -0.0001                   nan      nan    nan                    nan                   nan\n",
            "==============================================================================================================================\n",
            "\n",
            "mean: 0.940569698303779\n",
            "std: 0.00834129681489358\n"
          ],
          "name": "stdout"
        },
        {
          "output_type": "stream",
          "text": [
            "/usr/local/lib/python3.6/dist-packages/statsmodels/base/model.py:1286: RuntimeWarning: invalid value encountered in sqrt\n",
            "  bse_ = np.sqrt(np.diag(self.cov_params()))\n",
            "/usr/local/lib/python3.6/dist-packages/scipy/stats/_distn_infrastructure.py:901: RuntimeWarning: invalid value encountered in greater\n",
            "  return (a < x) & (x < b)\n",
            "/usr/local/lib/python3.6/dist-packages/scipy/stats/_distn_infrastructure.py:901: RuntimeWarning: invalid value encountered in less\n",
            "  return (a < x) & (x < b)\n",
            "/usr/local/lib/python3.6/dist-packages/scipy/stats/_distn_infrastructure.py:1892: RuntimeWarning: invalid value encountered in less_equal\n",
            "  cond2 = cond0 & (x <= _a)\n"
          ],
          "name": "stderr"
        }
      ]
    },
    {
      "cell_type": "code",
      "metadata": {
        "id": "N8U7xE8_HKVZ",
        "colab_type": "code",
        "outputId": "0586828a-e151-41b5-ae76-a2f1b6d598ee",
        "colab": {
          "base_uri": "https://localhost:8080/",
          "height": 955
        }
      },
      "source": [
        "print(result.summary2())"
      ],
      "execution_count": 0,
      "outputs": [
        {
          "output_type": "stream",
          "text": [
            "                                                        Results: Logit\n",
            "==============================================================================================================================\n",
            "Model:                                    Logit                                Pseudo R-squared:                     0.559    \n",
            "Dependent Variable:                       Flag_Cliente                         AIC:                                  2244.2291\n",
            "Date:                                     2019-11-09 03:19                     BIC:                                  2478.8035\n",
            "No. Observations:                         3544                                 Log-Likelihood:                       -1084.1  \n",
            "Df Model:                                 37                                   LL-Null:                              -2456.5  \n",
            "Df Residuals:                             3506                                 LLR p-value:                          0.0000   \n",
            "Converged:                                1.0000                               Scale:                                1.0000   \n",
            "No. Iterations:                           7.0000                                                                              \n",
            "------------------------------------------------------------------------------------------------------------------------------\n",
            "                                     Coef.         Std.Err.          z     P>|z|          [0.025                 0.975]       \n",
            "------------------------------------------------------------------------------------------------------------------------------\n",
            "Edad                                 0.0358                   nan      nan    nan                    nan                   nan\n",
            "Renta                               -0.0003                0.0000 -19.7638 0.0000                -0.0003               -0.0003\n",
            "Sexo                                 0.2487                   nan      nan    nan                    nan                   nan\n",
            "EstadoCivil                         -0.3174                   nan      nan    nan                    nan                   nan\n",
            "NivelSocioEconomico                 -0.1937                0.0306  -6.3216 0.0000                -0.2538               -0.1337\n",
            "Departamento                        -0.0278                   nan      nan    nan                    nan                   nan\n",
            "AntiguedadCuenta_Meses               0.0121                   nan      nan    nan                    nan                   nan\n",
            "RegistraAdicionales                 -0.0953                0.3946  -0.2415 0.8091                -0.8686                0.6780\n",
            "NumeroAdicionales                    0.2358                0.6999   0.3369 0.7362                -1.1359                1.6075\n",
            "AntiguedadAdicionales_Meses          0.0232                0.0074   3.1413 0.0017                 0.0087                0.0378\n",
            "LineaCreditoNormal                   0.0011                0.0007   1.5353 0.1247                -0.0003                0.0026\n",
            "SituacionCuenta                     -0.8166                0.1631  -5.0068 0.0000                -1.1363               -0.4969\n",
            "PromediodePagos                     -0.0674                0.0264  -2.5561 0.0106                -0.1191               -0.0157\n",
            "SaldoExtra                           0.0001                0.0002   0.3869 0.6989                -0.0004                0.0005\n",
            "SaldoNormal                          0.0000                0.0001   0.3752 0.7075                -0.0002                0.0003\n",
            "SaldoTotal                          -0.0001                0.0001  -1.1135 0.2655                -0.0004                0.0001\n",
            "HabitodePago1                        0.1180                0.0225   5.2475 0.0000                 0.0739                0.1621\n",
            "HabitodePago2                        0.0957                0.0221   4.3346 0.0000                 0.0524                0.1390\n",
            "HabitodePago3                        0.0718                0.0233   3.0765 0.0021                 0.0261                0.1176\n",
            "HabitodePago4                       -0.0828                0.0265  -3.1255 0.0018                -0.1348               -0.0309\n",
            "HabitodePago5                        0.0344                0.0299   1.1507 0.2499                -0.0242                0.0929\n",
            "HabitodePago6                       -0.0249                0.0268  -0.9285 0.3532                -0.0775                0.0277\n",
            "HabitodePago7                       -0.0253                0.0293  -0.8635 0.3879                -0.0829                0.0322\n",
            "HabitodePago8                        0.1008                0.0264   3.8144 0.0001                 0.0490                0.1526\n",
            "FlagRefinanciadoHistórico           -0.6655 1739423919780654.5000  -0.0000 1.0000 -3409208236617571.5000 3409208236617570.5000\n",
            "FlagRefinanciado                    -0.6655 1739423919780654.2500  -0.0000 1.0000 -3409208236617571.0000 3409208236617570.0000\n",
            "DiasMora200812                      -0.0261                0.0068  -3.8170 0.0001                -0.0395               -0.0127\n",
            "DiasMora200901                      -0.0097                0.0150  -0.6516 0.5147                -0.0390                0.0196\n",
            "DiasMora200902                      -0.0365                0.0173  -2.1089 0.0350                -0.0704               -0.0026\n",
            "DiasMora200903                      -0.1071                0.0130  -8.2285 0.0000                -0.1326               -0.0816\n",
            "DiasMora200904                      -0.0532                0.0134  -3.9843 0.0001                -0.0794               -0.0270\n",
            "DiasMora200905                      -0.0394                0.0142  -2.7813 0.0054                -0.0671               -0.0116\n",
            "CódigoInstitucion                   -0.0397                0.0606  -0.6547 0.5126                -0.1584                0.0791\n",
            "PagaDespues                         -0.1466                0.0842  -1.7412 0.0816                -0.3115                0.0184\n",
            "DispEfectivo                        -0.0628                0.0213  -2.9522 0.0032                -0.1046               -0.0211\n",
            "CalificacionSBS                     -0.7854                0.0361 -21.7278 0.0000                -0.8563               -0.7146\n",
            "CompraAnual_200806_200905           -0.0000                   nan      nan    nan                    nan                   nan\n",
            "NroTransaccionesAnual_200806_200905  0.0011                0.0013   0.8527 0.3938                -0.0014                0.0036\n",
            "CompraMensualMaxima_200806_200905   -0.0001                   nan      nan    nan                    nan                   nan\n",
            "==============================================================================================================================\n",
            "\n"
          ],
          "name": "stdout"
        }
      ]
    },
    {
      "cell_type": "code",
      "metadata": {
        "id": "4nWPifyJ5HVt",
        "colab_type": "code",
        "colab": {}
      },
      "source": [
        "Y_predict=result.predict(test.loc[:,features])"
      ],
      "execution_count": 0,
      "outputs": []
    },
    {
      "cell_type": "code",
      "metadata": {
        "id": "lhLcIYQU5HTd",
        "colab_type": "code",
        "outputId": "8ab46004-1d38-4102-d5e1-b719d68c2e9e",
        "colab": {
          "base_uri": "https://localhost:8080/",
          "height": 34
        }
      },
      "source": [
        "roc_auc_score(Test_final['Flag_Cliente'],Y_predict)"
      ],
      "execution_count": 0,
      "outputs": [
        {
          "output_type": "execute_result",
          "data": {
            "text/plain": [
              "0.947927008559596"
            ]
          },
          "metadata": {
            "tags": []
          },
          "execution_count": 64
        }
      ]
    },
    {
      "cell_type": "code",
      "metadata": {
        "id": "vtjiuXzljeGI",
        "colab_type": "code",
        "colab": {}
      },
      "source": [
        "from scipy import optimize\n"
      ],
      "execution_count": 0,
      "outputs": []
    },
    {
      "cell_type": "code",
      "metadata": {
        "id": "xvUW78yxvmUP",
        "colab_type": "code",
        "colab": {}
      },
      "source": [
        "def scalar1(x):\n",
        "    return (-1*roc_auc_score(Test_final['Flag_Cliente'],(test['Flag_Cliente']*(x)+ Y_predict*(1-x))))     "
      ],
      "execution_count": 0,
      "outputs": []
    },
    {
      "cell_type": "code",
      "metadata": {
        "id": "71rP0HrtjG8P",
        "colab_type": "code",
        "colab": {}
      },
      "source": [
        "\n",
        "# Left-sided inequality from the first constraint\n",
        "result = optimize.minimize_scalar(scalar1, bounds = (0,1),method='Bounded')\n",
        "    "
      ],
      "execution_count": 0,
      "outputs": []
    },
    {
      "cell_type": "code",
      "metadata": {
        "id": "NCx9TCVWvzES",
        "colab_type": "code",
        "outputId": "244d8ea5-32e9-42c7-a868-f95b6251a691",
        "colab": {
          "base_uri": "https://localhost:8080/",
          "height": 119
        }
      },
      "source": [
        "print(result)"
      ],
      "execution_count": 0,
      "outputs": [
        {
          "output_type": "stream",
          "text": [
            "     fun: -0.9748398408438224\n",
            " message: 'Solution found.'\n",
            "    nfev: 25\n",
            "  status: 0\n",
            " success: True\n",
            "       x: 0.90909896537479\n"
          ],
          "name": "stdout"
        }
      ]
    },
    {
      "cell_type": "code",
      "metadata": {
        "id": "GJX6gTKqfyOT",
        "colab_type": "code",
        "colab": {}
      },
      "source": [
        "Emsamble_test=(test['Flag_Cliente']*(result.x)+Y_predict*(1-result.x))"
      ],
      "execution_count": 0,
      "outputs": []
    },
    {
      "cell_type": "code",
      "metadata": {
        "id": "RYK2CWz6fyWN",
        "colab_type": "code",
        "outputId": "2cad1c94-9afd-4069-d261-5c90850d52d1",
        "colab": {
          "base_uri": "https://localhost:8080/",
          "height": 34
        }
      },
      "source": [
        "roc_auc_score(Test_final['Flag_Cliente'],Emsamble_test)"
      ],
      "execution_count": 0,
      "outputs": [
        {
          "output_type": "execute_result",
          "data": {
            "text/plain": [
              "0.9748398408438224"
            ]
          },
          "metadata": {
            "tags": []
          },
          "execution_count": 70
        }
      ]
    },
    {
      "cell_type": "code",
      "metadata": {
        "id": "A1upWLeygjNO",
        "colab_type": "code",
        "outputId": "385d4090-3fd8-4843-a0db-f82ae8e9b270",
        "colab": {
          "base_uri": "https://localhost:8080/",
          "height": 34
        }
      },
      "source": [
        "print(str(roc_auc_score(Test_final['Flag_Cliente'],test['Flag_Cliente'])),'--',str(roc_auc_score(Test_final['Flag_Cliente'],Y_predict)),'--',str(roc_auc_score(Test_final['Flag_Cliente'],Emsamble_test)))"
      ],
      "execution_count": 0,
      "outputs": [
        {
          "output_type": "stream",
          "text": [
            "0.9743989746766981 -- 0.947927008559596 -- 0.9748398408438224\n"
          ],
          "name": "stdout"
        }
      ]
    },
    {
      "cell_type": "code",
      "metadata": {
        "id": "XNd1DDLDfyJo",
        "colab_type": "code",
        "outputId": "950437cb-5d30-44e7-97f3-d4679d9a8371",
        "colab": {
          "base_uri": "https://localhost:8080/",
          "height": 265
        }
      },
      "source": [
        "#!/usr/bin/env python\n",
        "# -*- coding: utf-8 -*-\n",
        "from matplotlib import pyplot\n",
        "\n",
        "x = np.array(list(range(0,1001)))/1000\n",
        "# Graficar ambas funciones.\n",
        "pyplot.plot(x, [-1*scalar1(i) for i in x])\n",
        "# Establecer el color de los ejes.\n",
        "pyplot.axhline(0, color=\"black\")\n",
        "pyplot.axvline(0, color=\"black\")\n",
        "# Limitar los valores de los ejes.\n",
        "pyplot.xlim(0, 1)\n",
        "pyplot.ylim(0.95, 0.9755)\n",
        "# Guardar gráfico como imágen PNG.\n",
        "pyplot.savefig(\"output.png\")\n",
        "# Mostrarlo.\n",
        "pyplot.show()"
      ],
      "execution_count": 0,
      "outputs": [
        {
          "output_type": "display_data",
          "data": {
            "image/png": "[encoded data removed]",
            "text/plain": [
              "<Figure size 432x288 with 1 Axes>"
            ]
          },
          "metadata": {
            "tags": []
          }
        }
      ]
    },
    {
      "cell_type": "code",
      "metadata": {
        "id": "-M0RojgIw8lv",
        "colab_type": "code",
        "colab": {}
      },
      "source": [
        ""
      ],
      "execution_count": 0,
      "outputs": []
    },
    {
      "cell_type": "code",
      "metadata": {
        "id": "sVDH9zD6w8iZ",
        "colab_type": "code",
        "colab": {}
      },
      "source": [
        ""
      ],
      "execution_count": 0,
      "outputs": []
    },
    {
      "cell_type": "code",
      "metadata": {
        "id": "4-oxAkifw8gQ",
        "colab_type": "code",
        "colab": {}
      },
      "source": [
        ""
      ],
      "execution_count": 0,
      "outputs": []
    },
    {
      "cell_type": "code",
      "metadata": {
        "id": "6MXdcgMRw8Wz",
        "colab_type": "code",
        "colab": {}
      },
      "source": [
        ""
      ],
      "execution_count": 0,
      "outputs": []
    },
    {
      "cell_type": "code",
      "metadata": {
        "id": "xTl7oVON5HJK",
        "colab_type": "code",
        "colab": {}
      },
      "source": [
        "def reduce_mem_usage(df):\n",
        "    \"\"\" iterate through all the columns of a dataframe and modify the data type\n",
        "        to reduce memory usage.        \n",
        "    \"\"\"\n",
        "    start_mem = df.memory_usage().sum() / 1024**2\n",
        "    print('Memory usage of dataframe is {:.2f} MB'.format(start_mem))\n",
        "    \n",
        "    for col in df.columns:\n",
        "        col_type = df[col].dtype\n",
        "        \n",
        "        if col_type != object:\n",
        "            c_min = df[col].min()\n",
        "            c_max = df[col].max()\n",
        "            if str(col_type)[:3] == 'int':\n",
        "                if c_min > np.iinfo(np.int8).min and c_max < np.iinfo(np.int8).max:\n",
        "                    df[col] = df[col].astype(np.int8)\n",
        "                elif c_min > np.iinfo(np.int16).min and c_max < np.iinfo(np.int16).max:\n",
        "                    df[col] = df[col].astype(np.int16)\n",
        "                elif c_min > np.iinfo(np.int32).min and c_max < np.iinfo(np.int32).max:\n",
        "                    df[col] = df[col].astype(np.int32)\n",
        "                elif c_min > np.iinfo(np.int64).min and c_max < np.iinfo(np.int64).max:\n",
        "                    df[col] = df[col].astype(np.int64)  \n",
        "            else:\n",
        "                if c_min > np.finfo(np.float16).min and c_max < np.finfo(np.float16).max:\n",
        "                    df[col] = df[col].astype(np.float16)\n",
        "                elif c_min > np.finfo(np.float32).min and c_max < np.finfo(np.float32).max:\n",
        "                    df[col] = df[col].astype(np.float32)\n",
        "                else:\n",
        "                    df[col] = df[col].astype(np.float64)\n",
        "        #else:\n",
        "        #    df[col] = df[col].astype('category')\n",
        "\n",
        "    end_mem = df.memory_usage().sum() / 1024**2\n",
        "    print('Memory usage after optimization is: {:.2f} MB'.format(end_mem))\n",
        "    print('Decreased by {:.1f}%'.format(100 * (start_mem - end_mem) / start_mem))\n",
        "    \n",
        "    return df"
      ],
      "execution_count": 0,
      "outputs": []
    },
    {
      "cell_type": "code",
      "metadata": {
        "id": "dNuu5B105H5j",
        "colab_type": "code",
        "outputId": "f6a0115d-de00-4722-ffc9-1178724337dc",
        "colab": {
          "base_uri": "https://localhost:8080/",
          "height": 68
        }
      },
      "source": [
        "train=reduce_mem_usage(train)"
      ],
      "execution_count": 0,
      "outputs": [
        {
          "output_type": "stream",
          "text": [
            "Memory usage of dataframe is 1.14 MB\n",
            "Memory usage after optimization is: 0.23 MB\n",
            "Decreased by 79.8%\n"
          ],
          "name": "stdout"
        }
      ]
    },
    {
      "cell_type": "code",
      "metadata": {
        "id": "EW2Fi5_O5KTw",
        "colab_type": "code",
        "outputId": "53d0f401-1fda-4b6d-d944-9213eba82b78",
        "colab": {
          "base_uri": "https://localhost:8080/",
          "height": 68
        }
      },
      "source": [
        "test=reduce_mem_usage(test)"
      ],
      "execution_count": 0,
      "outputs": [
        {
          "output_type": "stream",
          "text": [
            "Memory usage of dataframe is 1.25 MB\n",
            "Memory usage after optimization is: 0.28 MB\n",
            "Decreased by 77.4%\n"
          ],
          "name": "stdout"
        }
      ]
    },
    {
      "cell_type": "code",
      "metadata": {
        "id": "MOqdzXRl5w9i",
        "colab_type": "code",
        "colab": {}
      },
      "source": [
        ""
      ],
      "execution_count": 0,
      "outputs": []
    },
    {
      "cell_type": "code",
      "metadata": {
        "id": "GK5g252sBRnJ",
        "colab_type": "code",
        "colab": {}
      },
      "source": [
        ""
      ],
      "execution_count": 0,
      "outputs": []
    },
    {
      "cell_type": "code",
      "metadata": {
        "id": "dasZPCz4BRtu",
        "colab_type": "code",
        "colab": {}
      },
      "source": [
        ""
      ],
      "execution_count": 0,
      "outputs": []
    },
    {
      "cell_type": "code",
      "metadata": {
        "id": "E88Ua0EgBRrv",
        "colab_type": "code",
        "colab": {}
      },
      "source": [
        ""
      ],
      "execution_count": 0,
      "outputs": []
    },
    {
      "cell_type": "code",
      "metadata": {
        "id": "tZxBu1fQBRqJ",
        "colab_type": "code",
        "outputId": "66c46683-2a2a-4b17-e4a3-468b2b8204fb",
        "colab": {
          "base_uri": "https://localhost:8080/",
          "height": 87
        }
      },
      "source": [
        "import numpy as np\n",
        "from sklearn.model_selection import KFold\n",
        "X = np.array([[1, 2], [3, 4], [1, 2], [3, 4]])\n",
        "y = np.array([1, 2, 3, 4])\n",
        "kf = KFold(n_splits=4,random_state=256,shuffle=True)\n",
        "\n",
        "for train_index, test_index in kf.split(X):\n",
        "    print(\"TRAIN:\", train_index, \"TEST:\", test_index)\n",
        "    X_train, X_test = X[train_index], X[test_index]\n",
        "    y_train, y_test = y[train_index], y[test_index]"
      ],
      "execution_count": 0,
      "outputs": [
        {
          "output_type": "stream",
          "text": [
            "TRAIN: [0 1 2] TEST: [3]\n",
            "TRAIN: [0 2 3] TEST: [1]\n",
            "TRAIN: [0 1 3] TEST: [2]\n",
            "TRAIN: [1 2 3] TEST: [0]\n"
          ],
          "name": "stdout"
        }
      ]
    },
    {
      "cell_type": "code",
      "metadata": {
        "id": "FnLR58cyBSUa",
        "colab_type": "code",
        "outputId": "5960ed62-f032-4ec2-c567-4fa93cc641e3",
        "colab": {
          "base_uri": "https://localhost:8080/",
          "height": 35
        }
      },
      "source": [
        "test_index"
      ],
      "execution_count": 0,
      "outputs": [
        {
          "output_type": "execute_result",
          "data": {
            "text/plain": [
              "array([0])"
            ]
          },
          "metadata": {
            "tags": []
          },
          "execution_count": 11
        }
      ]
    },
    {
      "cell_type": "code",
      "metadata": {
        "id": "4kMjsnutBm5b",
        "colab_type": "code",
        "outputId": "636155bd-7b74-494e-90b3-c1fedb893433",
        "colab": {
          "base_uri": "https://localhost:8080/",
          "height": 52
        }
      },
      "source": [
        "X[train_index]"
      ],
      "execution_count": 0,
      "outputs": [
        {
          "output_type": "execute_result",
          "data": {
            "text/plain": [
              "array([[1, 2],\n",
              "       [3, 4]])"
            ]
          },
          "metadata": {
            "tags": []
          },
          "execution_count": 7
        }
      ]
    },
    {
      "cell_type": "code",
      "metadata": {
        "id": "Fou3q2ZoBsyi",
        "colab_type": "code",
        "colab": {}
      },
      "source": [
        ""
      ],
      "execution_count": 0,
      "outputs": []
    }
  ]
}